{
  "cells": [
    {
      "cell_type": "markdown",
      "metadata": {
        "id": "view-in-github",
        "colab_type": "text"
      },
      "source": [
        "<a href=\"https://colab.research.google.com/github/fovi-llc/FinRL_DeepSeek/blob/main/FinRL_DeepSeek_backtest.ipynb\" target=\"_parent\"><img src=\"https://colab.research.google.com/assets/colab-badge.svg\" alt=\"Open In Colab\"/></a>"
      ]
    },
    {
      "cell_type": "markdown",
      "metadata": {
        "id": "v7Cycmf3Zbok"
      },
      "source": [
        "# FinRL-DeepSeek. Backtest\n"
      ]
    },
    {
      "cell_type": "markdown",
      "metadata": {
        "id": "1oWbj4HgqHBg"
      },
      "source": [
        "# Part 1. Install Packages"
      ]
    },
    {
      "cell_type": "code",
      "execution_count": 5,
      "metadata": {
        "colab": {
          "base_uri": "https://localhost:8080/"
        },
        "id": "V0RbVjUMoheu",
        "outputId": "d734df43-afef-4d1e-a660-8f37522f4212"
      },
      "outputs": [
        {
          "output_type": "stream",
          "name": "stdout",
          "text": [
            "Collecting git+https://github.com/benstaf/FinRL.git\n",
            "  Cloning https://github.com/benstaf/FinRL.git to /tmp/pip-req-build-o7aafc4x\n",
            "  Running command git clone --filter=blob:none --quiet https://github.com/benstaf/FinRL.git /tmp/pip-req-build-o7aafc4x\n",
            "  Resolved https://github.com/benstaf/FinRL.git to commit cd016b667da1860939b43bb77aba7ff4e35f780f\n",
            "  Installing build dependencies ... \u001b[?25l\u001b[?25hdone\n",
            "  Getting requirements to build wheel ... \u001b[?25l\u001b[?25hdone\n",
            "  Preparing metadata (pyproject.toml) ... \u001b[?25l\u001b[?25hdone\n",
            "Collecting elegantrl@ git+https://github.com/AI4Finance-Foundation/ElegantRL.git (from finrl==0.3.6)\n",
            "  Cloning https://github.com/AI4Finance-Foundation/ElegantRL.git to /tmp/pip-install-hyvezbz5/elegantrl_33b3a8d7c3fd43aa96481a735873cdd9\n",
            "  Running command git clone --filter=blob:none --quiet https://github.com/AI4Finance-Foundation/ElegantRL.git /tmp/pip-install-hyvezbz5/elegantrl_33b3a8d7c3fd43aa96481a735873cdd9\n",
            "  Resolved https://github.com/AI4Finance-Foundation/ElegantRL.git to commit 3bdc958c8e624b61a9e661832b01fef816924f61\n",
            "  Preparing metadata (setup.py) ... \u001b[?25l\u001b[?25hdone\n",
            "Requirement already satisfied: alpaca-trade-api<4,>=3 in /usr/local/lib/python3.11/dist-packages (from finrl==0.3.6) (3.2.0)\n",
            "Requirement already satisfied: ccxt<4,>=3 in /usr/local/lib/python3.11/dist-packages (from finrl==0.3.6) (3.1.60)\n",
            "Requirement already satisfied: exchange-calendars<5,>=4 in /usr/local/lib/python3.11/dist-packages (from finrl==0.3.6) (4.9)\n",
            "Requirement already satisfied: jqdatasdk<2,>=1 in /usr/local/lib/python3.11/dist-packages (from finrl==0.3.6) (1.9.7)\n",
            "Requirement already satisfied: pyfolio<0.10,>=0.9 in /usr/local/lib/python3.11/dist-packages (from finrl==0.3.6) (0.9.2)\n",
            "Requirement already satisfied: pyportfolioopt<2,>=1 in /usr/local/lib/python3.11/dist-packages (from finrl==0.3.6) (1.5.6)\n",
            "Requirement already satisfied: ray<3,>=2 in /usr/local/lib/python3.11/dist-packages (from ray[default,tune]<3,>=2->finrl==0.3.6) (2.43.0)\n",
            "Requirement already satisfied: scikit-learn<2,>=1 in /usr/local/lib/python3.11/dist-packages (from finrl==0.3.6) (1.6.1)\n",
            "Requirement already satisfied: stable-baselines3>=2.0.0a5 in /usr/local/lib/python3.11/dist-packages (from stable-baselines3[extra]>=2.0.0a5->finrl==0.3.6) (2.6.0a1)\n",
            "Requirement already satisfied: stockstats<0.6,>=0.5 in /usr/local/lib/python3.11/dist-packages (from finrl==0.3.6) (0.5.4)\n",
            "Requirement already satisfied: wrds<4,>=3 in /usr/local/lib/python3.11/dist-packages (from finrl==0.3.6) (3.3.0)\n",
            "Requirement already satisfied: yfinance<0.3,>=0.2 in /usr/local/lib/python3.11/dist-packages (from finrl==0.3.6) (0.2.54)\n",
            "Requirement already satisfied: pandas>=0.18.1 in /usr/local/lib/python3.11/dist-packages (from alpaca-trade-api<4,>=3->finrl==0.3.6) (2.2.2)\n",
            "Requirement already satisfied: numpy>=1.11.1 in /usr/local/lib/python3.11/dist-packages (from alpaca-trade-api<4,>=3->finrl==0.3.6) (1.26.4)\n",
            "Requirement already satisfied: requests<3,>2 in /usr/local/lib/python3.11/dist-packages (from alpaca-trade-api<4,>=3->finrl==0.3.6) (2.32.3)\n",
            "Requirement already satisfied: urllib3<2,>1.24 in /usr/local/lib/python3.11/dist-packages (from alpaca-trade-api<4,>=3->finrl==0.3.6) (1.26.20)\n",
            "Requirement already satisfied: websocket-client<2,>=0.56.0 in /usr/local/lib/python3.11/dist-packages (from alpaca-trade-api<4,>=3->finrl==0.3.6) (1.8.0)\n",
            "Requirement already satisfied: websockets<11,>=9.0 in /usr/local/lib/python3.11/dist-packages (from alpaca-trade-api<4,>=3->finrl==0.3.6) (10.4)\n",
            "Requirement already satisfied: msgpack==1.0.3 in /usr/local/lib/python3.11/dist-packages (from alpaca-trade-api<4,>=3->finrl==0.3.6) (1.0.3)\n",
            "Requirement already satisfied: aiohttp<4,>=3.8.3 in /usr/local/lib/python3.11/dist-packages (from alpaca-trade-api<4,>=3->finrl==0.3.6) (3.11.13)\n",
            "Requirement already satisfied: PyYAML==6.0.1 in /usr/local/lib/python3.11/dist-packages (from alpaca-trade-api<4,>=3->finrl==0.3.6) (6.0.1)\n",
            "Requirement already satisfied: deprecation==2.1.0 in /usr/local/lib/python3.11/dist-packages (from alpaca-trade-api<4,>=3->finrl==0.3.6) (2.1.0)\n",
            "Requirement already satisfied: packaging in /usr/local/lib/python3.11/dist-packages (from deprecation==2.1.0->alpaca-trade-api<4,>=3->finrl==0.3.6) (24.2)\n",
            "Requirement already satisfied: setuptools>=60.9.0 in /usr/local/lib/python3.11/dist-packages (from ccxt<4,>=3->finrl==0.3.6) (75.1.0)\n",
            "Requirement already satisfied: certifi>=2018.1.18 in /usr/local/lib/python3.11/dist-packages (from ccxt<4,>=3->finrl==0.3.6) (2025.1.31)\n",
            "Requirement already satisfied: cryptography>=2.6.1 in /usr/local/lib/python3.11/dist-packages (from ccxt<4,>=3->finrl==0.3.6) (43.0.3)\n",
            "Requirement already satisfied: aiodns>=1.1.1 in /usr/local/lib/python3.11/dist-packages (from ccxt<4,>=3->finrl==0.3.6) (3.2.0)\n",
            "Requirement already satisfied: yarl>=1.7.2 in /usr/local/lib/python3.11/dist-packages (from ccxt<4,>=3->finrl==0.3.6) (1.18.3)\n",
            "Requirement already satisfied: pyluach in /usr/local/lib/python3.11/dist-packages (from exchange-calendars<5,>=4->finrl==0.3.6) (2.2.0)\n",
            "Requirement already satisfied: toolz in /usr/local/lib/python3.11/dist-packages (from exchange-calendars<5,>=4->finrl==0.3.6) (0.12.1)\n",
            "Requirement already satisfied: tzdata in /usr/local/lib/python3.11/dist-packages (from exchange-calendars<5,>=4->finrl==0.3.6) (2025.1)\n",
            "Requirement already satisfied: korean_lunar_calendar in /usr/local/lib/python3.11/dist-packages (from exchange-calendars<5,>=4->finrl==0.3.6) (0.3.1)\n",
            "Requirement already satisfied: six in /usr/local/lib/python3.11/dist-packages (from jqdatasdk<2,>=1->finrl==0.3.6) (1.17.0)\n",
            "Requirement already satisfied: SQLAlchemy>=1.2.8 in /usr/local/lib/python3.11/dist-packages (from jqdatasdk<2,>=1->finrl==0.3.6) (2.0.38)\n",
            "Requirement already satisfied: pymysql>=0.7.6 in /usr/local/lib/python3.11/dist-packages (from jqdatasdk<2,>=1->finrl==0.3.6) (1.1.1)\n",
            "Requirement already satisfied: thriftpy2!=0.5.1,>=0.3.9 in /usr/local/lib/python3.11/dist-packages (from jqdatasdk<2,>=1->finrl==0.3.6) (0.5.2)\n",
            "Requirement already satisfied: ipython>=3.2.3 in /usr/local/lib/python3.11/dist-packages (from pyfolio<0.10,>=0.9->finrl==0.3.6) (7.34.0)\n",
            "Requirement already satisfied: matplotlib>=1.4.0 in /usr/local/lib/python3.11/dist-packages (from pyfolio<0.10,>=0.9->finrl==0.3.6) (3.10.0)\n",
            "Requirement already satisfied: pytz>=2014.10 in /usr/local/lib/python3.11/dist-packages (from pyfolio<0.10,>=0.9->finrl==0.3.6) (2025.1)\n",
            "Requirement already satisfied: scipy>=0.14.0 in /usr/local/lib/python3.11/dist-packages (from pyfolio<0.10,>=0.9->finrl==0.3.6) (1.13.1)\n",
            "Requirement already satisfied: seaborn>=0.7.1 in /usr/local/lib/python3.11/dist-packages (from pyfolio<0.10,>=0.9->finrl==0.3.6) (0.13.2)\n",
            "Requirement already satisfied: empyrical>=0.5.0 in /usr/local/lib/python3.11/dist-packages (from pyfolio<0.10,>=0.9->finrl==0.3.6) (0.5.5)\n",
            "Requirement already satisfied: cvxpy>=1.1.19 in /usr/local/lib/python3.11/dist-packages (from pyportfolioopt<2,>=1->finrl==0.3.6) (1.6.2)\n",
            "Requirement already satisfied: ecos<3.0.0,>=2.0.14 in /usr/local/lib/python3.11/dist-packages (from pyportfolioopt<2,>=1->finrl==0.3.6) (2.0.14)\n",
            "Requirement already satisfied: plotly<6.0.0,>=5.0.0 in /usr/local/lib/python3.11/dist-packages (from pyportfolioopt<2,>=1->finrl==0.3.6) (5.24.1)\n",
            "Requirement already satisfied: click>=7.0 in /usr/local/lib/python3.11/dist-packages (from ray<3,>=2->ray[default,tune]<3,>=2->finrl==0.3.6) (8.1.8)\n",
            "Requirement already satisfied: filelock in /usr/local/lib/python3.11/dist-packages (from ray<3,>=2->ray[default,tune]<3,>=2->finrl==0.3.6) (3.17.0)\n",
            "Requirement already satisfied: jsonschema in /usr/local/lib/python3.11/dist-packages (from ray<3,>=2->ray[default,tune]<3,>=2->finrl==0.3.6) (4.23.0)\n",
            "Requirement already satisfied: protobuf!=3.19.5,>=3.15.3 in /usr/local/lib/python3.11/dist-packages (from ray<3,>=2->ray[default,tune]<3,>=2->finrl==0.3.6) (4.25.6)\n",
            "Requirement already satisfied: aiosignal in /usr/local/lib/python3.11/dist-packages (from ray<3,>=2->ray[default,tune]<3,>=2->finrl==0.3.6) (1.3.2)\n",
            "Requirement already satisfied: frozenlist in /usr/local/lib/python3.11/dist-packages (from ray<3,>=2->ray[default,tune]<3,>=2->finrl==0.3.6) (1.5.0)\n",
            "Requirement already satisfied: aiohttp_cors in /usr/local/lib/python3.11/dist-packages (from ray[default,tune]<3,>=2->finrl==0.3.6) (0.7.0)\n",
            "Requirement already satisfied: colorful in /usr/local/lib/python3.11/dist-packages (from ray[default,tune]<3,>=2->finrl==0.3.6) (0.5.6)\n",
            "Requirement already satisfied: py-spy>=0.2.0 in /usr/local/lib/python3.11/dist-packages (from ray[default,tune]<3,>=2->finrl==0.3.6) (0.4.0)\n",
            "Requirement already satisfied: grpcio>=1.42.0 in /usr/local/lib/python3.11/dist-packages (from ray[default,tune]<3,>=2->finrl==0.3.6) (1.70.0)\n",
            "Requirement already satisfied: opencensus in /usr/local/lib/python3.11/dist-packages (from ray[default,tune]<3,>=2->finrl==0.3.6) (0.11.4)\n",
            "Requirement already satisfied: pydantic!=2.0.*,!=2.1.*,!=2.2.*,!=2.3.*,!=2.4.*,<3 in /usr/local/lib/python3.11/dist-packages (from ray[default,tune]<3,>=2->finrl==0.3.6) (2.10.6)\n",
            "Requirement already satisfied: prometheus_client>=0.7.1 in /usr/local/lib/python3.11/dist-packages (from ray[default,tune]<3,>=2->finrl==0.3.6) (0.21.1)\n",
            "Requirement already satisfied: smart_open in /usr/local/lib/python3.11/dist-packages (from ray[default,tune]<3,>=2->finrl==0.3.6) (7.1.0)\n",
            "Requirement already satisfied: virtualenv!=20.21.1,>=20.0.24 in /usr/local/lib/python3.11/dist-packages (from ray[default,tune]<3,>=2->finrl==0.3.6) (20.29.2)\n",
            "Requirement already satisfied: tensorboardX>=1.9 in /usr/local/lib/python3.11/dist-packages (from ray[default,tune]<3,>=2->finrl==0.3.6) (2.6.2.2)\n",
            "Requirement already satisfied: pyarrow>=9.0.0 in /usr/local/lib/python3.11/dist-packages (from ray[default,tune]<3,>=2->finrl==0.3.6) (18.1.0)\n",
            "Requirement already satisfied: fsspec in /usr/local/lib/python3.11/dist-packages (from ray[default,tune]<3,>=2->finrl==0.3.6) (2024.10.0)\n",
            "Requirement already satisfied: joblib>=1.2.0 in /usr/local/lib/python3.11/dist-packages (from scikit-learn<2,>=1->finrl==0.3.6) (1.4.2)\n",
            "Requirement already satisfied: threadpoolctl>=3.1.0 in /usr/local/lib/python3.11/dist-packages (from scikit-learn<2,>=1->finrl==0.3.6) (3.5.0)\n",
            "Requirement already satisfied: gymnasium<1.1.0,>=0.29.1 in /usr/local/lib/python3.11/dist-packages (from stable-baselines3>=2.0.0a5->stable-baselines3[extra]>=2.0.0a5->finrl==0.3.6) (1.0.0)\n",
            "Requirement already satisfied: torch<3.0,>=2.3 in /usr/local/lib/python3.11/dist-packages (from stable-baselines3>=2.0.0a5->stable-baselines3[extra]>=2.0.0a5->finrl==0.3.6) (2.5.1+cu124)\n",
            "Requirement already satisfied: cloudpickle in /usr/local/lib/python3.11/dist-packages (from stable-baselines3>=2.0.0a5->stable-baselines3[extra]>=2.0.0a5->finrl==0.3.6) (3.1.1)\n",
            "Requirement already satisfied: opencv-python in /usr/local/lib/python3.11/dist-packages (from stable-baselines3[extra]>=2.0.0a5->finrl==0.3.6) (4.11.0.86)\n",
            "Requirement already satisfied: pygame in /usr/local/lib/python3.11/dist-packages (from stable-baselines3[extra]>=2.0.0a5->finrl==0.3.6) (2.6.1)\n",
            "Requirement already satisfied: tensorboard>=2.9.1 in /usr/local/lib/python3.11/dist-packages (from stable-baselines3[extra]>=2.0.0a5->finrl==0.3.6) (2.18.0)\n",
            "Requirement already satisfied: psutil in /usr/local/lib/python3.11/dist-packages (from stable-baselines3[extra]>=2.0.0a5->finrl==0.3.6) (5.9.5)\n",
            "Requirement already satisfied: tqdm in /usr/local/lib/python3.11/dist-packages (from stable-baselines3[extra]>=2.0.0a5->finrl==0.3.6) (4.67.1)\n",
            "Requirement already satisfied: rich in /usr/local/lib/python3.11/dist-packages (from stable-baselines3[extra]>=2.0.0a5->finrl==0.3.6) (13.9.4)\n",
            "Requirement already satisfied: ale-py>=0.9.0 in /usr/local/lib/python3.11/dist-packages (from stable-baselines3[extra]>=2.0.0a5->finrl==0.3.6) (0.10.2)\n",
            "Requirement already satisfied: pillow in /usr/local/lib/python3.11/dist-packages (from stable-baselines3[extra]>=2.0.0a5->finrl==0.3.6) (11.1.0)\n",
            "Requirement already satisfied: psycopg2-binary<2.10,>=2.9 in /usr/local/lib/python3.11/dist-packages (from wrds<4,>=3->finrl==0.3.6) (2.9.10)\n",
            "Requirement already satisfied: multitasking>=0.0.7 in /usr/local/lib/python3.11/dist-packages (from yfinance<0.3,>=0.2->finrl==0.3.6) (0.0.11)\n",
            "Requirement already satisfied: platformdirs>=2.0.0 in /usr/local/lib/python3.11/dist-packages (from yfinance<0.3,>=0.2->finrl==0.3.6) (4.3.6)\n",
            "Requirement already satisfied: frozendict>=2.3.4 in /usr/local/lib/python3.11/dist-packages (from yfinance<0.3,>=0.2->finrl==0.3.6) (2.4.6)\n",
            "Requirement already satisfied: peewee>=3.16.2 in /usr/local/lib/python3.11/dist-packages (from yfinance<0.3,>=0.2->finrl==0.3.6) (3.17.9)\n",
            "Requirement already satisfied: beautifulsoup4>=4.11.1 in /usr/local/lib/python3.11/dist-packages (from yfinance<0.3,>=0.2->finrl==0.3.6) (4.13.3)\n",
            "Requirement already satisfied: th in /usr/local/lib/python3.11/dist-packages (from elegantrl@ git+https://github.com/AI4Finance-Foundation/ElegantRL.git->finrl==0.3.6) (0.4.1)\n",
            "Requirement already satisfied: pycares>=4.0.0 in /usr/local/lib/python3.11/dist-packages (from aiodns>=1.1.1->ccxt<4,>=3->finrl==0.3.6) (4.5.0)\n",
            "Requirement already satisfied: aiohappyeyeballs>=2.3.0 in /usr/local/lib/python3.11/dist-packages (from aiohttp<4,>=3.8.3->alpaca-trade-api<4,>=3->finrl==0.3.6) (2.4.6)\n",
            "Requirement already satisfied: attrs>=17.3.0 in /usr/local/lib/python3.11/dist-packages (from aiohttp<4,>=3.8.3->alpaca-trade-api<4,>=3->finrl==0.3.6) (25.1.0)\n",
            "Requirement already satisfied: multidict<7.0,>=4.5 in /usr/local/lib/python3.11/dist-packages (from aiohttp<4,>=3.8.3->alpaca-trade-api<4,>=3->finrl==0.3.6) (6.1.0)\n",
            "Requirement already satisfied: propcache>=0.2.0 in /usr/local/lib/python3.11/dist-packages (from aiohttp<4,>=3.8.3->alpaca-trade-api<4,>=3->finrl==0.3.6) (0.3.0)\n",
            "Requirement already satisfied: soupsieve>1.2 in /usr/local/lib/python3.11/dist-packages (from beautifulsoup4>=4.11.1->yfinance<0.3,>=0.2->finrl==0.3.6) (2.6)\n",
            "Requirement already satisfied: typing-extensions>=4.0.0 in /usr/local/lib/python3.11/dist-packages (from beautifulsoup4>=4.11.1->yfinance<0.3,>=0.2->finrl==0.3.6) (4.12.2)\n",
            "Requirement already satisfied: cffi>=1.12 in /usr/local/lib/python3.11/dist-packages (from cryptography>=2.6.1->ccxt<4,>=3->finrl==0.3.6) (1.17.1)\n",
            "Requirement already satisfied: osqp>=0.6.2 in /usr/local/lib/python3.11/dist-packages (from cvxpy>=1.1.19->pyportfolioopt<2,>=1->finrl==0.3.6) (0.6.7.post3)\n",
            "Requirement already satisfied: clarabel>=0.5.0 in /usr/local/lib/python3.11/dist-packages (from cvxpy>=1.1.19->pyportfolioopt<2,>=1->finrl==0.3.6) (0.10.0)\n",
            "Requirement already satisfied: scs>=3.2.4.post1 in /usr/local/lib/python3.11/dist-packages (from cvxpy>=1.1.19->pyportfolioopt<2,>=1->finrl==0.3.6) (3.2.7.post2)\n",
            "Requirement already satisfied: pandas-datareader>=0.2 in /usr/local/lib/python3.11/dist-packages (from empyrical>=0.5.0->pyfolio<0.10,>=0.9->finrl==0.3.6) (0.10.0)\n",
            "Requirement already satisfied: farama-notifications>=0.0.1 in /usr/local/lib/python3.11/dist-packages (from gymnasium<1.1.0,>=0.29.1->stable-baselines3>=2.0.0a5->stable-baselines3[extra]>=2.0.0a5->finrl==0.3.6) (0.0.4)\n",
            "Requirement already satisfied: jedi>=0.16 in /usr/local/lib/python3.11/dist-packages (from ipython>=3.2.3->pyfolio<0.10,>=0.9->finrl==0.3.6) (0.19.2)\n",
            "Requirement already satisfied: decorator in /usr/local/lib/python3.11/dist-packages (from ipython>=3.2.3->pyfolio<0.10,>=0.9->finrl==0.3.6) (4.4.2)\n",
            "Requirement already satisfied: pickleshare in /usr/local/lib/python3.11/dist-packages (from ipython>=3.2.3->pyfolio<0.10,>=0.9->finrl==0.3.6) (0.7.5)\n",
            "Requirement already satisfied: traitlets>=4.2 in /usr/local/lib/python3.11/dist-packages (from ipython>=3.2.3->pyfolio<0.10,>=0.9->finrl==0.3.6) (5.7.1)\n",
            "Requirement already satisfied: prompt-toolkit!=3.0.0,!=3.0.1,<3.1.0,>=2.0.0 in /usr/local/lib/python3.11/dist-packages (from ipython>=3.2.3->pyfolio<0.10,>=0.9->finrl==0.3.6) (3.0.50)\n",
            "Requirement already satisfied: pygments in /usr/local/lib/python3.11/dist-packages (from ipython>=3.2.3->pyfolio<0.10,>=0.9->finrl==0.3.6) (2.18.0)\n",
            "Requirement already satisfied: backcall in /usr/local/lib/python3.11/dist-packages (from ipython>=3.2.3->pyfolio<0.10,>=0.9->finrl==0.3.6) (0.2.0)\n",
            "Requirement already satisfied: matplotlib-inline in /usr/local/lib/python3.11/dist-packages (from ipython>=3.2.3->pyfolio<0.10,>=0.9->finrl==0.3.6) (0.1.7)\n",
            "Requirement already satisfied: pexpect>4.3 in /usr/local/lib/python3.11/dist-packages (from ipython>=3.2.3->pyfolio<0.10,>=0.9->finrl==0.3.6) (4.9.0)\n",
            "Requirement already satisfied: contourpy>=1.0.1 in /usr/local/lib/python3.11/dist-packages (from matplotlib>=1.4.0->pyfolio<0.10,>=0.9->finrl==0.3.6) (1.3.1)\n",
            "Requirement already satisfied: cycler>=0.10 in /usr/local/lib/python3.11/dist-packages (from matplotlib>=1.4.0->pyfolio<0.10,>=0.9->finrl==0.3.6) (0.12.1)\n",
            "Requirement already satisfied: fonttools>=4.22.0 in /usr/local/lib/python3.11/dist-packages (from matplotlib>=1.4.0->pyfolio<0.10,>=0.9->finrl==0.3.6) (4.56.0)\n",
            "Requirement already satisfied: kiwisolver>=1.3.1 in /usr/local/lib/python3.11/dist-packages (from matplotlib>=1.4.0->pyfolio<0.10,>=0.9->finrl==0.3.6) (1.4.8)\n",
            "Requirement already satisfied: pyparsing>=2.3.1 in /usr/local/lib/python3.11/dist-packages (from matplotlib>=1.4.0->pyfolio<0.10,>=0.9->finrl==0.3.6) (3.2.1)\n",
            "Requirement already satisfied: python-dateutil>=2.7 in /usr/local/lib/python3.11/dist-packages (from matplotlib>=1.4.0->pyfolio<0.10,>=0.9->finrl==0.3.6) (2.8.2)\n",
            "Requirement already satisfied: tenacity>=6.2.0 in /usr/local/lib/python3.11/dist-packages (from plotly<6.0.0,>=5.0.0->pyportfolioopt<2,>=1->finrl==0.3.6) (9.0.0)\n",
            "Requirement already satisfied: annotated-types>=0.6.0 in /usr/local/lib/python3.11/dist-packages (from pydantic!=2.0.*,!=2.1.*,!=2.2.*,!=2.3.*,!=2.4.*,<3->ray[default,tune]<3,>=2->finrl==0.3.6) (0.7.0)\n",
            "Requirement already satisfied: pydantic-core==2.27.2 in /usr/local/lib/python3.11/dist-packages (from pydantic!=2.0.*,!=2.1.*,!=2.2.*,!=2.3.*,!=2.4.*,<3->ray[default,tune]<3,>=2->finrl==0.3.6) (2.27.2)\n",
            "Requirement already satisfied: charset-normalizer<4,>=2 in /usr/local/lib/python3.11/dist-packages (from requests<3,>2->alpaca-trade-api<4,>=3->finrl==0.3.6) (3.4.1)\n",
            "Requirement already satisfied: idna<4,>=2.5 in /usr/local/lib/python3.11/dist-packages (from requests<3,>2->alpaca-trade-api<4,>=3->finrl==0.3.6) (3.10)\n",
            "Requirement already satisfied: greenlet!=0.4.17 in /usr/local/lib/python3.11/dist-packages (from SQLAlchemy>=1.2.8->jqdatasdk<2,>=1->finrl==0.3.6) (3.1.1)\n",
            "Requirement already satisfied: absl-py>=0.4 in /usr/local/lib/python3.11/dist-packages (from tensorboard>=2.9.1->stable-baselines3[extra]>=2.0.0a5->finrl==0.3.6) (1.4.0)\n",
            "Requirement already satisfied: markdown>=2.6.8 in /usr/local/lib/python3.11/dist-packages (from tensorboard>=2.9.1->stable-baselines3[extra]>=2.0.0a5->finrl==0.3.6) (3.7)\n",
            "Requirement already satisfied: tensorboard-data-server<0.8.0,>=0.7.0 in /usr/local/lib/python3.11/dist-packages (from tensorboard>=2.9.1->stable-baselines3[extra]>=2.0.0a5->finrl==0.3.6) (0.7.2)\n",
            "Requirement already satisfied: werkzeug>=1.0.1 in /usr/local/lib/python3.11/dist-packages (from tensorboard>=2.9.1->stable-baselines3[extra]>=2.0.0a5->finrl==0.3.6) (3.1.3)\n",
            "Requirement already satisfied: Cython>=3.0.10 in /usr/local/lib/python3.11/dist-packages (from thriftpy2!=0.5.1,>=0.3.9->jqdatasdk<2,>=1->finrl==0.3.6) (3.0.12)\n",
            "Requirement already satisfied: ply<4.0,>=3.4 in /usr/local/lib/python3.11/dist-packages (from thriftpy2!=0.5.1,>=0.3.9->jqdatasdk<2,>=1->finrl==0.3.6) (3.11)\n",
            "Requirement already satisfied: networkx in /usr/local/lib/python3.11/dist-packages (from torch<3.0,>=2.3->stable-baselines3>=2.0.0a5->stable-baselines3[extra]>=2.0.0a5->finrl==0.3.6) (3.4.2)\n",
            "Requirement already satisfied: jinja2 in /usr/local/lib/python3.11/dist-packages (from torch<3.0,>=2.3->stable-baselines3>=2.0.0a5->stable-baselines3[extra]>=2.0.0a5->finrl==0.3.6) (3.1.5)\n",
            "Requirement already satisfied: nvidia-cuda-nvrtc-cu12==12.4.127 in /usr/local/lib/python3.11/dist-packages (from torch<3.0,>=2.3->stable-baselines3>=2.0.0a5->stable-baselines3[extra]>=2.0.0a5->finrl==0.3.6) (12.4.127)\n",
            "Requirement already satisfied: nvidia-cuda-runtime-cu12==12.4.127 in /usr/local/lib/python3.11/dist-packages (from torch<3.0,>=2.3->stable-baselines3>=2.0.0a5->stable-baselines3[extra]>=2.0.0a5->finrl==0.3.6) (12.4.127)\n",
            "Requirement already satisfied: nvidia-cuda-cupti-cu12==12.4.127 in /usr/local/lib/python3.11/dist-packages (from torch<3.0,>=2.3->stable-baselines3>=2.0.0a5->stable-baselines3[extra]>=2.0.0a5->finrl==0.3.6) (12.4.127)\n",
            "Requirement already satisfied: nvidia-cudnn-cu12==9.1.0.70 in /usr/local/lib/python3.11/dist-packages (from torch<3.0,>=2.3->stable-baselines3>=2.0.0a5->stable-baselines3[extra]>=2.0.0a5->finrl==0.3.6) (9.1.0.70)\n",
            "Requirement already satisfied: nvidia-cublas-cu12==12.4.5.8 in /usr/local/lib/python3.11/dist-packages (from torch<3.0,>=2.3->stable-baselines3>=2.0.0a5->stable-baselines3[extra]>=2.0.0a5->finrl==0.3.6) (12.4.5.8)\n",
            "Requirement already satisfied: nvidia-cufft-cu12==11.2.1.3 in /usr/local/lib/python3.11/dist-packages (from torch<3.0,>=2.3->stable-baselines3>=2.0.0a5->stable-baselines3[extra]>=2.0.0a5->finrl==0.3.6) (11.2.1.3)\n",
            "Requirement already satisfied: nvidia-curand-cu12==10.3.5.147 in /usr/local/lib/python3.11/dist-packages (from torch<3.0,>=2.3->stable-baselines3>=2.0.0a5->stable-baselines3[extra]>=2.0.0a5->finrl==0.3.6) (10.3.5.147)\n",
            "Requirement already satisfied: nvidia-cusolver-cu12==11.6.1.9 in /usr/local/lib/python3.11/dist-packages (from torch<3.0,>=2.3->stable-baselines3>=2.0.0a5->stable-baselines3[extra]>=2.0.0a5->finrl==0.3.6) (11.6.1.9)\n",
            "Requirement already satisfied: nvidia-cusparse-cu12==12.3.1.170 in /usr/local/lib/python3.11/dist-packages (from torch<3.0,>=2.3->stable-baselines3>=2.0.0a5->stable-baselines3[extra]>=2.0.0a5->finrl==0.3.6) (12.3.1.170)\n",
            "Requirement already satisfied: nvidia-nccl-cu12==2.21.5 in /usr/local/lib/python3.11/dist-packages (from torch<3.0,>=2.3->stable-baselines3>=2.0.0a5->stable-baselines3[extra]>=2.0.0a5->finrl==0.3.6) (2.21.5)\n",
            "Requirement already satisfied: nvidia-nvtx-cu12==12.4.127 in /usr/local/lib/python3.11/dist-packages (from torch<3.0,>=2.3->stable-baselines3>=2.0.0a5->stable-baselines3[extra]>=2.0.0a5->finrl==0.3.6) (12.4.127)\n",
            "Requirement already satisfied: nvidia-nvjitlink-cu12==12.4.127 in /usr/local/lib/python3.11/dist-packages (from torch<3.0,>=2.3->stable-baselines3>=2.0.0a5->stable-baselines3[extra]>=2.0.0a5->finrl==0.3.6) (12.4.127)\n",
            "Requirement already satisfied: triton==3.1.0 in /usr/local/lib/python3.11/dist-packages (from torch<3.0,>=2.3->stable-baselines3>=2.0.0a5->stable-baselines3[extra]>=2.0.0a5->finrl==0.3.6) (3.1.0)\n",
            "Requirement already satisfied: sympy==1.13.1 in /usr/local/lib/python3.11/dist-packages (from torch<3.0,>=2.3->stable-baselines3>=2.0.0a5->stable-baselines3[extra]>=2.0.0a5->finrl==0.3.6) (1.13.1)\n",
            "Requirement already satisfied: mpmath<1.4,>=1.1.0 in /usr/local/lib/python3.11/dist-packages (from sympy==1.13.1->torch<3.0,>=2.3->stable-baselines3>=2.0.0a5->stable-baselines3[extra]>=2.0.0a5->finrl==0.3.6) (1.3.0)\n",
            "Requirement already satisfied: distlib<1,>=0.3.7 in /usr/local/lib/python3.11/dist-packages (from virtualenv!=20.21.1,>=20.0.24->ray[default,tune]<3,>=2->finrl==0.3.6) (0.3.9)\n",
            "Requirement already satisfied: jsonschema-specifications>=2023.03.6 in /usr/local/lib/python3.11/dist-packages (from jsonschema->ray<3,>=2->ray[default,tune]<3,>=2->finrl==0.3.6) (2024.10.1)\n",
            "Requirement already satisfied: referencing>=0.28.4 in /usr/local/lib/python3.11/dist-packages (from jsonschema->ray<3,>=2->ray[default,tune]<3,>=2->finrl==0.3.6) (0.36.2)\n",
            "Requirement already satisfied: rpds-py>=0.7.1 in /usr/local/lib/python3.11/dist-packages (from jsonschema->ray<3,>=2->ray[default,tune]<3,>=2->finrl==0.3.6) (0.23.1)\n",
            "Requirement already satisfied: opencensus-context>=0.1.3 in /usr/local/lib/python3.11/dist-packages (from opencensus->ray[default,tune]<3,>=2->finrl==0.3.6) (0.1.3)\n",
            "Requirement already satisfied: google-api-core<3.0.0,>=1.0.0 in /usr/local/lib/python3.11/dist-packages (from opencensus->ray[default,tune]<3,>=2->finrl==0.3.6) (2.24.1)\n",
            "Requirement already satisfied: markdown-it-py>=2.2.0 in /usr/local/lib/python3.11/dist-packages (from rich->stable-baselines3[extra]>=2.0.0a5->finrl==0.3.6) (3.0.0)\n",
            "Requirement already satisfied: wrapt in /usr/local/lib/python3.11/dist-packages (from smart_open->ray[default,tune]<3,>=2->finrl==0.3.6) (1.17.2)\n",
            "Requirement already satisfied: niltype<2.0,>=0.3 in /usr/local/lib/python3.11/dist-packages (from th->elegantrl@ git+https://github.com/AI4Finance-Foundation/ElegantRL.git->finrl==0.3.6) (1.0.2)\n",
            "Requirement already satisfied: pycparser in /usr/local/lib/python3.11/dist-packages (from cffi>=1.12->cryptography>=2.6.1->ccxt<4,>=3->finrl==0.3.6) (2.22)\n",
            "Requirement already satisfied: googleapis-common-protos<2.0.dev0,>=1.56.2 in /usr/local/lib/python3.11/dist-packages (from google-api-core<3.0.0,>=1.0.0->opencensus->ray[default,tune]<3,>=2->finrl==0.3.6) (1.68.0)\n",
            "Requirement already satisfied: proto-plus<2.0.0dev,>=1.22.3 in /usr/local/lib/python3.11/dist-packages (from google-api-core<3.0.0,>=1.0.0->opencensus->ray[default,tune]<3,>=2->finrl==0.3.6) (1.26.0)\n",
            "Requirement already satisfied: google-auth<3.0.dev0,>=2.14.1 in /usr/local/lib/python3.11/dist-packages (from google-api-core<3.0.0,>=1.0.0->opencensus->ray[default,tune]<3,>=2->finrl==0.3.6) (2.27.0)\n",
            "Requirement already satisfied: parso<0.9.0,>=0.8.4 in /usr/local/lib/python3.11/dist-packages (from jedi>=0.16->ipython>=3.2.3->pyfolio<0.10,>=0.9->finrl==0.3.6) (0.8.4)\n",
            "Requirement already satisfied: mdurl~=0.1 in /usr/local/lib/python3.11/dist-packages (from markdown-it-py>=2.2.0->rich->stable-baselines3[extra]>=2.0.0a5->finrl==0.3.6) (0.1.2)\n",
            "Requirement already satisfied: qdldl in /usr/local/lib/python3.11/dist-packages (from osqp>=0.6.2->cvxpy>=1.1.19->pyportfolioopt<2,>=1->finrl==0.3.6) (0.1.7.post5)\n",
            "Requirement already satisfied: lxml in /usr/local/lib/python3.11/dist-packages (from pandas-datareader>=0.2->empyrical>=0.5.0->pyfolio<0.10,>=0.9->finrl==0.3.6) (5.3.1)\n",
            "Requirement already satisfied: ptyprocess>=0.5 in /usr/local/lib/python3.11/dist-packages (from pexpect>4.3->ipython>=3.2.3->pyfolio<0.10,>=0.9->finrl==0.3.6) (0.7.0)\n",
            "Requirement already satisfied: wcwidth in /usr/local/lib/python3.11/dist-packages (from prompt-toolkit!=3.0.0,!=3.0.1,<3.1.0,>=2.0.0->ipython>=3.2.3->pyfolio<0.10,>=0.9->finrl==0.3.6) (0.2.13)\n",
            "Requirement already satisfied: MarkupSafe>=2.1.1 in /usr/local/lib/python3.11/dist-packages (from werkzeug>=1.0.1->tensorboard>=2.9.1->stable-baselines3[extra]>=2.0.0a5->finrl==0.3.6) (3.0.2)\n",
            "Requirement already satisfied: cachetools<6.0,>=2.0.0 in /usr/local/lib/python3.11/dist-packages (from google-auth<3.0.dev0,>=2.14.1->google-api-core<3.0.0,>=1.0.0->opencensus->ray[default,tune]<3,>=2->finrl==0.3.6) (5.5.2)\n",
            "Requirement already satisfied: pyasn1-modules>=0.2.1 in /usr/local/lib/python3.11/dist-packages (from google-auth<3.0.dev0,>=2.14.1->google-api-core<3.0.0,>=1.0.0->opencensus->ray[default,tune]<3,>=2->finrl==0.3.6) (0.4.1)\n",
            "Requirement already satisfied: rsa<5,>=3.1.4 in /usr/local/lib/python3.11/dist-packages (from google-auth<3.0.dev0,>=2.14.1->google-api-core<3.0.0,>=1.0.0->opencensus->ray[default,tune]<3,>=2->finrl==0.3.6) (4.9)\n",
            "Requirement already satisfied: pyasn1<0.7.0,>=0.4.6 in /usr/local/lib/python3.11/dist-packages (from pyasn1-modules>=0.2.1->google-auth<3.0.dev0,>=2.14.1->google-api-core<3.0.0,>=1.0.0->opencensus->ray[default,tune]<3,>=2->finrl==0.3.6) (0.6.1)\n"
          ]
        }
      ],
      "source": [
        "!pip install git+https://github.com/benstaf/FinRL.git"
      ]
    },
    {
      "cell_type": "code",
      "execution_count": 6,
      "metadata": {
        "colab": {
          "base_uri": "https://localhost:8080/"
        },
        "id": "dzHWUxEZIEQy",
        "outputId": "01c65304-9219-4f21-abe7-f499eced5d8e"
      },
      "outputs": [
        {
          "output_type": "stream",
          "name": "stdout",
          "text": [
            "Requirement already satisfied: selenium in /usr/local/lib/python3.11/dist-packages (4.29.0)\n",
            "Requirement already satisfied: webdriver-manager in /usr/local/lib/python3.11/dist-packages (4.0.2)\n",
            "Requirement already satisfied: alpaca-py in /usr/local/lib/python3.11/dist-packages (0.39.0)\n",
            "Requirement already satisfied: datasets in /usr/local/lib/python3.11/dist-packages (3.3.2)\n",
            "Requirement already satisfied: urllib3<3,>=1.26 in /usr/local/lib/python3.11/dist-packages (from urllib3[socks]<3,>=1.26->selenium) (1.26.20)\n",
            "Requirement already satisfied: trio~=0.17 in /usr/local/lib/python3.11/dist-packages (from selenium) (0.29.0)\n",
            "Requirement already satisfied: trio-websocket~=0.9 in /usr/local/lib/python3.11/dist-packages (from selenium) (0.12.2)\n",
            "Requirement already satisfied: certifi>=2021.10.8 in /usr/local/lib/python3.11/dist-packages (from selenium) (2025.1.31)\n",
            "Requirement already satisfied: typing_extensions~=4.9 in /usr/local/lib/python3.11/dist-packages (from selenium) (4.12.2)\n",
            "Requirement already satisfied: websocket-client~=1.8 in /usr/local/lib/python3.11/dist-packages (from selenium) (1.8.0)\n",
            "Requirement already satisfied: requests in /usr/local/lib/python3.11/dist-packages (from webdriver-manager) (2.32.3)\n",
            "Requirement already satisfied: python-dotenv in /usr/local/lib/python3.11/dist-packages (from webdriver-manager) (1.0.1)\n",
            "Requirement already satisfied: packaging in /usr/local/lib/python3.11/dist-packages (from webdriver-manager) (24.2)\n",
            "Requirement already satisfied: msgpack<2.0.0,>=1.0.3 in /usr/local/lib/python3.11/dist-packages (from alpaca-py) (1.0.3)\n",
            "Requirement already satisfied: pandas>=1.5.3 in /usr/local/lib/python3.11/dist-packages (from alpaca-py) (2.2.2)\n",
            "Requirement already satisfied: pydantic<3.0.0,>=2.0.3 in /usr/local/lib/python3.11/dist-packages (from alpaca-py) (2.10.6)\n",
            "Requirement already satisfied: sseclient-py<2.0.0,>=1.7.2 in /usr/local/lib/python3.11/dist-packages (from alpaca-py) (1.8.0)\n",
            "Requirement already satisfied: websockets>=10.4 in /usr/local/lib/python3.11/dist-packages (from alpaca-py) (10.4)\n",
            "Requirement already satisfied: filelock in /usr/local/lib/python3.11/dist-packages (from datasets) (3.17.0)\n",
            "Requirement already satisfied: numpy>=1.17 in /usr/local/lib/python3.11/dist-packages (from datasets) (1.26.4)\n",
            "Requirement already satisfied: pyarrow>=15.0.0 in /usr/local/lib/python3.11/dist-packages (from datasets) (18.1.0)\n",
            "Requirement already satisfied: dill<0.3.9,>=0.3.0 in /usr/local/lib/python3.11/dist-packages (from datasets) (0.3.8)\n",
            "Requirement already satisfied: tqdm>=4.66.3 in /usr/local/lib/python3.11/dist-packages (from datasets) (4.67.1)\n",
            "Requirement already satisfied: xxhash in /usr/local/lib/python3.11/dist-packages (from datasets) (3.5.0)\n",
            "Requirement already satisfied: multiprocess<0.70.17 in /usr/local/lib/python3.11/dist-packages (from datasets) (0.70.16)\n",
            "Requirement already satisfied: fsspec<=2024.12.0,>=2023.1.0 in /usr/local/lib/python3.11/dist-packages (from fsspec[http]<=2024.12.0,>=2023.1.0->datasets) (2024.10.0)\n",
            "Requirement already satisfied: aiohttp in /usr/local/lib/python3.11/dist-packages (from datasets) (3.11.13)\n",
            "Requirement already satisfied: huggingface-hub>=0.24.0 in /usr/local/lib/python3.11/dist-packages (from datasets) (0.28.1)\n",
            "Requirement already satisfied: pyyaml>=5.1 in /usr/local/lib/python3.11/dist-packages (from datasets) (6.0.1)\n",
            "Requirement already satisfied: aiohappyeyeballs>=2.3.0 in /usr/local/lib/python3.11/dist-packages (from aiohttp->datasets) (2.4.6)\n",
            "Requirement already satisfied: aiosignal>=1.1.2 in /usr/local/lib/python3.11/dist-packages (from aiohttp->datasets) (1.3.2)\n",
            "Requirement already satisfied: attrs>=17.3.0 in /usr/local/lib/python3.11/dist-packages (from aiohttp->datasets) (25.1.0)\n",
            "Requirement already satisfied: frozenlist>=1.1.1 in /usr/local/lib/python3.11/dist-packages (from aiohttp->datasets) (1.5.0)\n",
            "Requirement already satisfied: multidict<7.0,>=4.5 in /usr/local/lib/python3.11/dist-packages (from aiohttp->datasets) (6.1.0)\n",
            "Requirement already satisfied: propcache>=0.2.0 in /usr/local/lib/python3.11/dist-packages (from aiohttp->datasets) (0.3.0)\n",
            "Requirement already satisfied: yarl<2.0,>=1.17.0 in /usr/local/lib/python3.11/dist-packages (from aiohttp->datasets) (1.18.3)\n",
            "Requirement already satisfied: python-dateutil>=2.8.2 in /usr/local/lib/python3.11/dist-packages (from pandas>=1.5.3->alpaca-py) (2.8.2)\n",
            "Requirement already satisfied: pytz>=2020.1 in /usr/local/lib/python3.11/dist-packages (from pandas>=1.5.3->alpaca-py) (2025.1)\n",
            "Requirement already satisfied: tzdata>=2022.7 in /usr/local/lib/python3.11/dist-packages (from pandas>=1.5.3->alpaca-py) (2025.1)\n",
            "Requirement already satisfied: annotated-types>=0.6.0 in /usr/local/lib/python3.11/dist-packages (from pydantic<3.0.0,>=2.0.3->alpaca-py) (0.7.0)\n",
            "Requirement already satisfied: pydantic-core==2.27.2 in /usr/local/lib/python3.11/dist-packages (from pydantic<3.0.0,>=2.0.3->alpaca-py) (2.27.2)\n",
            "Requirement already satisfied: charset-normalizer<4,>=2 in /usr/local/lib/python3.11/dist-packages (from requests->webdriver-manager) (3.4.1)\n",
            "Requirement already satisfied: idna<4,>=2.5 in /usr/local/lib/python3.11/dist-packages (from requests->webdriver-manager) (3.10)\n",
            "Requirement already satisfied: sortedcontainers in /usr/local/lib/python3.11/dist-packages (from trio~=0.17->selenium) (2.4.0)\n",
            "Requirement already satisfied: outcome in /usr/local/lib/python3.11/dist-packages (from trio~=0.17->selenium) (1.3.0.post0)\n",
            "Requirement already satisfied: sniffio>=1.3.0 in /usr/local/lib/python3.11/dist-packages (from trio~=0.17->selenium) (1.3.1)\n",
            "Requirement already satisfied: wsproto>=0.14 in /usr/local/lib/python3.11/dist-packages (from trio-websocket~=0.9->selenium) (1.2.0)\n",
            "Requirement already satisfied: PySocks!=1.5.7,<2.0,>=1.5.6 in /usr/local/lib/python3.11/dist-packages (from urllib3[socks]<3,>=1.26->selenium) (1.7.1)\n",
            "Requirement already satisfied: six>=1.5 in /usr/local/lib/python3.11/dist-packages (from python-dateutil>=2.8.2->pandas>=1.5.3->alpaca-py) (1.17.0)\n",
            "Requirement already satisfied: h11<1,>=0.9.0 in /usr/local/lib/python3.11/dist-packages (from wsproto>=0.14->trio-websocket~=0.9->selenium) (0.14.0)\n"
          ]
        }
      ],
      "source": [
        "!pip install selenium webdriver-manager alpaca-py datasets"
      ]
    },
    {
      "cell_type": "markdown",
      "source": [
        "#Download environments: https://github.com/benstaf/FinRL_DeepSeek\n",
        "#And trading agents: https://huggingface.co/benstaf/Trading_agents"
      ],
      "metadata": {
        "id": "7r6aAYR1jOdN"
      }
    },
    {
      "cell_type": "code",
      "source": [
        "!git clone https://github.com/benstaf/FinRL_DeepSeek.git"
      ],
      "metadata": {
        "id": "5yaYVKvFoL0K",
        "outputId": "b749ab0a-22cd-40c3-8d81-39e0d9001e25",
        "colab": {
          "base_uri": "https://localhost:8080/"
        }
      },
      "execution_count": 9,
      "outputs": [
        {
          "output_type": "stream",
          "name": "stdout",
          "text": [
            "Cloning into 'FinRL_DeepSeek'...\n",
            "remote: Enumerating objects: 131, done.\u001b[K\n",
            "remote: Counting objects: 100% (131/131), done.\u001b[K\n",
            "remote: Compressing objects: 100% (130/130), done.\u001b[K\n",
            "remote: Total 131 (delta 85), reused 1 (delta 0), pack-reused 0 (from 0)\u001b[K\n",
            "Receiving objects: 100% (131/131), 1.20 MiB | 4.74 MiB/s, done.\n",
            "Resolving deltas: 100% (85/85), done.\n"
          ]
        }
      ]
    },
    {
      "cell_type": "code",
      "execution_count": 7,
      "metadata": {
        "colab": {
          "base_uri": "https://localhost:8080/"
        },
        "id": "EOdUAKRe5lv4",
        "outputId": "623956f4-68fa-4fa5-cda4-62b586ad60fd"
      },
      "outputs": [
        {
          "output_type": "stream",
          "name": "stdout",
          "text": [
            "[Errno 2] No such file or directory: 'FinRL_LLM'\n",
            "/content\n"
          ]
        }
      ],
      "source": [
        "cd FinRL_LLM"
      ]
    },
    {
      "cell_type": "code",
      "source": [
        "%cd FinRL_DeepSeek"
      ],
      "metadata": {
        "id": "HerPXpRVoof4",
        "outputId": "ee0fd53d-83b9-4b40-a210-285dbb65d36c",
        "colab": {
          "base_uri": "https://localhost:8080/"
        }
      },
      "execution_count": 10,
      "outputs": [
        {
          "output_type": "stream",
          "name": "stdout",
          "text": [
            "/content/FinRL_DeepSeek\n"
          ]
        }
      ]
    },
    {
      "cell_type": "code",
      "execution_count": 11,
      "metadata": {
        "id": "mqfBOKz-qJYF"
      },
      "outputs": [],
      "source": [
        "import matplotlib.pyplot as plt\n",
        "import numpy as np\n",
        "import pandas as pd\n",
        "#from stable_baselines3 import A2C, DDPG, PPO, SAC, TD3\n",
        "\n",
        "#from finrl.agents.stablebaselines3.models import DRLAgent\n",
        "from finrl.config import INDICATORS, TRAINED_MODEL_DIR\n",
        "from env_stocktrading import StockTradingEnv\n",
        "\n",
        "\n",
        "# Import PPO-DeepSeek environments\n",
        "from env_stocktrading_llm import StockTradingEnv as StockTradingEnv_llm\n",
        "from env_stocktrading_llm_1 import StockTradingEnv as StockTradingEnv_llm_1\n",
        "from env_stocktrading_llm_01 import StockTradingEnv as StockTradingEnv_llm_01\n",
        "\n",
        "# Import CPPO-DeepSeek risk environments\n",
        "from env_stocktrading_llm_risk import StockTradingEnv as StockTradingEnv_llm_risk\n",
        "from env_stocktrading_llm_risk_1 import StockTradingEnv as StockTradingEnv_llm_risk_1\n",
        "from env_stocktrading_llm_risk_01 import StockTradingEnv as StockTradingEnv_llm_risk_01\n",
        "\n",
        "#from env_stocktrading_llm import StockTradingEnv as StockTradingEnv_llm\n",
        "\n",
        "#from env_stocktrading_llm_risk import StockTradingEnv as StockTradingEnv_llm_risk\n",
        "\n",
        "\n",
        "#from finrl.meta.env_stock_trading.env_stocktrading_llm import StockTradingEnv\n",
        "from finrl.meta.preprocessor.yahoodownloader import YahooDownloader\n",
        "\n",
        "\n",
        "from datasets import load_dataset\n",
        "\n",
        "%matplotlib inline"
      ]
    },
    {
      "cell_type": "markdown",
      "metadata": {
        "id": "mUF2P4hmqVjh"
      },
      "source": [
        "# Part 2. Backtesting"
      ]
    },
    {
      "cell_type": "code",
      "execution_count": 15,
      "metadata": {
        "id": "UMzVSoRtdhUu"
      },
      "outputs": [],
      "source": [
        "# from Huggging Face :\n",
        "dataset = load_dataset(path=\"benstaf/nasdaq_2013_2023\", data_files='trade_data_deepseek_sentiment_2019_2023.csv')\n",
        "\n",
        "# Convert to pandas DataFrame\n",
        "trade = pd.DataFrame(dataset['train'])\n",
        "\n",
        "#trade= pd.read_csv('/content/machine_learning/trade_data_qwen_sentiment.csv')\n",
        "\n",
        "trade = trade.drop('Unnamed: 0',axis=1)\n",
        "\n",
        "# Create a new index based on unique dates\n",
        "unique_dates = trade['date'].unique()\n",
        "date_to_idx = {date: idx for idx, date in enumerate(unique_dates)}\n",
        "\n",
        "# Create new index based on the date mapping\n",
        "trade['new_idx'] = trade['date'].map(date_to_idx)\n",
        "\n",
        "# Set this as the index\n",
        "trade = trade.set_index('new_idx')\n",
        "\n",
        "\n",
        "#missing values with 0\n",
        "trade.fillna({'llm_sentiment': 0}, inplace=True)\n",
        "trade_llm=trade"
      ]
    },
    {
      "cell_type": "code",
      "execution_count": 16,
      "metadata": {
        "colab": {
          "base_uri": "https://localhost:8080/",
          "height": 81,
          "referenced_widgets": [
            "c14968d005cd40c6a16c336b96d6c845",
            "b9c74b2d661f43c1859467b1cf0da904",
            "f8274f7aea8844b0b5c94fe203feda8f",
            "d9afa03839944a999ea5205044f9b328",
            "83a0b8b55d544194a91bb09edf57fe3e",
            "acef298c308849ec8181413b4bc4a074",
            "3ab02dce0d3049d2a337c6374e95f046",
            "834601fb3d934c6fa8d7b60c67e47056",
            "bfbc561bb1cc44259963aee0d234174d",
            "61c559014bdf43cd9f317b4cb0eb263e",
            "e34e89c6c82e40fd80da2e86b4571c08",
            "5735f4a60ada431c9ef38c0b3246dd96",
            "b338712f06784dd585948f10f57fa3c1",
            "3395b5053bc242f6ad2012958f7a236b",
            "99909688b316424981b779f58d4137bc",
            "cb75a0b1a79d4771a6e9dc4ca66def69",
            "576080e61c7741e1bb0e9b5486779a96",
            "545be67a6dc046369cc634e7e78e4891",
            "73059b4fa4c949209dcb62d978135a43",
            "4c87d3eb4b8d400b93fa793b2ebcb688",
            "7c37a989e0c5402a9c28da088df04ca1",
            "ab1730e185ec4bb8ad0bbad5923e2d8c"
          ]
        },
        "id": "kql-lIiXkFWX",
        "outputId": "c8464547-abed-41e5-fc8e-67e012be6c71"
      },
      "outputs": [
        {
          "output_type": "display_data",
          "data": {
            "text/plain": [
              "trade_data_deepseek_risk_2019_2023.csv:   0%|          | 0.00/31.2M [00:00<?, ?B/s]"
            ],
            "application/vnd.jupyter.widget-view+json": {
              "version_major": 2,
              "version_minor": 0,
              "model_id": "c14968d005cd40c6a16c336b96d6c845"
            }
          },
          "metadata": {}
        },
        {
          "output_type": "display_data",
          "data": {
            "text/plain": [
              "Generating train split: 0 examples [00:00, ? examples/s]"
            ],
            "application/vnd.jupyter.widget-view+json": {
              "version_major": 2,
              "version_minor": 0,
              "model_id": "5735f4a60ada431c9ef38c0b3246dd96"
            }
          },
          "metadata": {}
        }
      ],
      "source": [
        "\n",
        "#trade = pd.read_csv('/content/machine_learning/trade_data_qwen_risk.csv')\n",
        "\n",
        "# from Huggging Face :\n",
        "dataset = load_dataset(path=\"benstaf/nasdaq_2013_2023\", data_files='trade_data_deepseek_risk_2019_2023.csv')\n",
        "\n",
        "# Convert to pandas DataFrame\n",
        "trade = pd.DataFrame(dataset['train'])\n",
        "\n",
        "trade = trade.drop('Unnamed: 0',axis=1)\n",
        "\n",
        "# Create a new index based on unique dates\n",
        "unique_dates = trade['date'].unique()\n",
        "date_to_idx = {date: idx for idx, date in enumerate(unique_dates)}\n",
        "\n",
        "# Create new index based on the date mapping\n",
        "trade['new_idx'] = trade['date'].map(date_to_idx)\n",
        "\n",
        "# Set this as the index\n",
        "trade = trade.set_index('new_idx')\n",
        "\n",
        "\n",
        "#missing values with 0\n",
        "trade.fillna({'llm_sentiment': 0}, inplace=True)\n",
        "#missing values with 3\n",
        "trade.fillna({'llm_risk': 3}, inplace=True)\n",
        "trade_llm_risk=trade"
      ]
    },
    {
      "cell_type": "code",
      "execution_count": null,
      "metadata": {
        "id": "u8cwiKJUcLqB"
      },
      "outputs": [],
      "source": [
        "#trade = pd.read_csv('/content/machine_learning/trade_data_qwen_risk.csv')\n",
        "\n",
        "# from Huggging Face :\n",
        "dataset = load_dataset(path=\"benstaf/nasdaq_2013_2023\", data_files='trade_data_2019_2023.csv')\n",
        "\n",
        "# Convert to pandas DataFrame\n",
        "trade = pd.DataFrame(dataset['train'])\n",
        "\n",
        "trade = trade.drop('Unnamed: 0',axis=1)\n",
        "\n",
        "# Create a new index based on unique dates\n",
        "unique_dates = trade['date'].unique()\n",
        "date_to_idx = {date: idx for idx, date in enumerate(unique_dates)}\n",
        "\n",
        "# Create new index based on the date mapping\n",
        "trade['new_idx'] = trade['date'].map(date_to_idx)\n",
        "\n",
        "# Set this as the index\n",
        "trade = trade.set_index('new_idx')"
      ]
    },
    {
      "cell_type": "markdown",
      "metadata": {
        "id": "U5mmgQF_h1jQ"
      },
      "source": [
        "### Trading (Out-of-sample Performance)\n",
        "\n",
        "We update periodically in order to take full advantage of the data, e.g., retrain quarterly, monthly or weekly. We also tune the parameters along the way, in this notebook we use the in-sample data from 2009-01 to 2020-07 to tune the parameters once, so there is some alpha decay here as the length of trade date extends.\n",
        "\n",
        "Numerous hyperparameters – e.g. the learning rate, the total number of samples to train on – influence the learning process and are usually determined by testing some variations."
      ]
    },
    {
      "cell_type": "code",
      "execution_count": 17,
      "metadata": {
        "colab": {
          "base_uri": "https://localhost:8080/"
        },
        "id": "4H_w3SaBAkKU",
        "outputId": "f7ccb8a9-1821-4f83-959e-b7073204497c"
      },
      "outputs": [
        {
          "output_type": "stream",
          "name": "stdout",
          "text": [
            "Stock Dimension: 84, State Space: 841\n"
          ]
        }
      ],
      "source": [
        "stock_dimension = len(trade.tic.unique())\n",
        "state_space = 1 + 2 * stock_dimension + len(INDICATORS) * stock_dimension #+ stock_dimension # +LLM sentiment\n",
        "print(f\"Stock Dimension: {stock_dimension}, State Space: {state_space}\")"
      ]
    },
    {
      "cell_type": "code",
      "execution_count": 18,
      "metadata": {
        "colab": {
          "base_uri": "https://localhost:8080/"
        },
        "id": "wywEqlA6eWLl",
        "outputId": "7498b3e9-2c8d-44ea-f2f9-970beb1f749b"
      },
      "outputs": [
        {
          "output_type": "stream",
          "name": "stdout",
          "text": [
            "Stock Dimension: 84, State Space: 925\n"
          ]
        }
      ],
      "source": [
        "stock_dimension_llm = len(trade_llm.tic.unique())\n",
        "state_space_llm = 1 + 2 * stock_dimension_llm + (1+len(INDICATORS)) * stock_dimension_llm #+ stock_dimension # +LLM sentiment\n",
        "print(f\"Stock Dimension: {stock_dimension_llm}, State Space: {state_space_llm}\")"
      ]
    },
    {
      "cell_type": "code",
      "execution_count": 19,
      "metadata": {
        "colab": {
          "base_uri": "https://localhost:8080/"
        },
        "id": "bIXRb35Vk9nt",
        "outputId": "7a66af3e-23fa-448c-8318-fb1b13cec278"
      },
      "outputs": [
        {
          "output_type": "stream",
          "name": "stdout",
          "text": [
            "Stock Dimension: 84, State Space: 1009\n"
          ]
        }
      ],
      "source": [
        "stock_dimension = len(trade.tic.unique())\n",
        "state_space_llm_risk = 1 + 2 * stock_dimension + (2+len(INDICATORS)) * stock_dimension #+ stock_dimension # +LLM sentiment + LLM risk\n",
        "print(f\"Stock Dimension: {stock_dimension}, State Space: {state_space_llm_risk}\")"
      ]
    },
    {
      "cell_type": "code",
      "execution_count": 20,
      "metadata": {
        "id": "nKNmQMqGAknW"
      },
      "outputs": [],
      "source": [
        "buy_cost_list = sell_cost_list = [0.001] * stock_dimension\n",
        "num_stock_shares = [0] * stock_dimension\n",
        "\n",
        "env_kwargs = {\n",
        "    \"hmax\": 100,\n",
        "    \"initial_amount\": 1000000,\n",
        "    \"num_stock_shares\": num_stock_shares,\n",
        "    \"buy_cost_pct\": buy_cost_list,\n",
        "    \"sell_cost_pct\": sell_cost_list,\n",
        "    \"state_space\": state_space,\n",
        "    \"stock_dim\": stock_dimension,\n",
        "    \"tech_indicator_list\": INDICATORS,\n",
        "    \"action_space\": stock_dimension,\n",
        "    \"reward_scaling\": 1e-4\n",
        "}"
      ]
    },
    {
      "cell_type": "code",
      "execution_count": 21,
      "metadata": {
        "id": "GRa_6myXjcgB"
      },
      "outputs": [],
      "source": [
        "buy_cost_list_llm = sell_cost_list_llm = [0.001] * stock_dimension_llm\n",
        "num_stock_shares_llm = [0] * stock_dimension_llm\n",
        "\n",
        "env_kwargs_llm = {\n",
        "    \"hmax\": 100,\n",
        "    \"initial_amount\": 1000000,\n",
        "    \"num_stock_shares\": num_stock_shares_llm,\n",
        "    \"buy_cost_pct\": buy_cost_list_llm,\n",
        "    \"sell_cost_pct\": sell_cost_list_llm,\n",
        "    \"state_space\": state_space_llm,\n",
        "    \"stock_dim\": stock_dimension_llm,\n",
        "    \"tech_indicator_list\": INDICATORS,\n",
        "    \"action_space\": stock_dimension_llm,\n",
        "    \"reward_scaling\": 1e-4\n",
        "}"
      ]
    },
    {
      "cell_type": "code",
      "execution_count": null,
      "metadata": {
        "id": "zm8q9Nyvpz7t"
      },
      "outputs": [],
      "source": [
        "buy_cost_list = sell_cost_list = [0.001] * stock_dimension\n",
        "num_stock_shares = [0] * stock_dimension\n",
        "\n",
        "env_kwargs_llm_risk = {\n",
        "    \"hmax\": 100,\n",
        "    \"initial_amount\": 1000000,\n",
        "    \"num_stock_shares\": num_stock_shares,\n",
        "    \"buy_cost_pct\": buy_cost_list,\n",
        "    \"sell_cost_pct\": sell_cost_list,\n",
        "    \"state_space\": state_space_llm_risk,\n",
        "    \"stock_dim\": stock_dimension,\n",
        "    \"tech_indicator_list\": INDICATORS,\n",
        "    \"action_space\": stock_dimension,\n",
        "    \"reward_scaling\": 1e-4\n",
        "}"
      ]
    },
    {
      "cell_type": "code",
      "execution_count": 22,
      "metadata": {
        "id": "cIqoV0GSI52v"
      },
      "outputs": [],
      "source": [
        "e_trade_gym = StockTradingEnv(df = trade, turbulence_threshold = 70,risk_indicator_col='vix', **env_kwargs)\n",
        "# env_trade, obs_trade = e_trade_gym.get_sb_env()"
      ]
    },
    {
      "cell_type": "code",
      "execution_count": 23,
      "metadata": {
        "id": "teDV4u6ytznT"
      },
      "outputs": [],
      "source": [
        "e_trade_llm_gym = StockTradingEnv_llm(df = trade_llm, turbulence_threshold = 70,risk_indicator_col='vix', **env_kwargs_llm)\n",
        "# env_trade, obs_trade = e_trade_gym.get_sb_env()"
      ]
    },
    {
      "cell_type": "code",
      "execution_count": 24,
      "metadata": {
        "id": "TxOX7sagAKOr"
      },
      "outputs": [],
      "source": [
        "\n",
        "# Environment for PPO-DeepSeek 10%\n",
        "e_trade_llm_gym = StockTradingEnv_llm(df=trade_llm, turbulence_threshold=70, risk_indicator_col='vix', **env_kwargs_llm)\n",
        "\n",
        "# Environment for PPO-DeepSeek 1%\n",
        "e_trade_llm_gym_1 = StockTradingEnv_llm_1(df=trade_llm, turbulence_threshold=70, risk_indicator_col='vix', **env_kwargs_llm)\n",
        "\n",
        "# Environment for PPO-DeepSeek 0.1%\n",
        "e_trade_llm_gym_01 = StockTradingEnv_llm_01(df=trade_llm, turbulence_threshold=70, risk_indicator_col='vix', **env_kwargs_llm)"
      ]
    },
    {
      "cell_type": "code",
      "execution_count": 25,
      "metadata": {
        "id": "57xQY44MpkKV",
        "outputId": "5c30b099-19e9-40bb-f314-c7632ff8b58c",
        "colab": {
          "base_uri": "https://localhost:8080/",
          "height": 159
        }
      },
      "outputs": [
        {
          "output_type": "error",
          "ename": "NameError",
          "evalue": "name 'env_kwargs_llm_risk' is not defined",
          "traceback": [
            "\u001b[0;31m---------------------------------------------------------------------------\u001b[0m",
            "\u001b[0;31mNameError\u001b[0m                                 Traceback (most recent call last)",
            "\u001b[0;32m<ipython-input-25-46d649f00598>\u001b[0m in \u001b[0;36m<cell line: 0>\u001b[0;34m()\u001b[0m\n\u001b[0;32m----> 1\u001b[0;31m \u001b[0me_trade_llm_risk_gym\u001b[0m \u001b[0;34m=\u001b[0m \u001b[0mStockTradingEnv_llm_risk\u001b[0m\u001b[0;34m(\u001b[0m\u001b[0mdf\u001b[0m \u001b[0;34m=\u001b[0m \u001b[0mtrade_llm_risk\u001b[0m\u001b[0;34m,\u001b[0m \u001b[0mturbulence_threshold\u001b[0m \u001b[0;34m=\u001b[0m \u001b[0;36m70\u001b[0m\u001b[0;34m,\u001b[0m\u001b[0mrisk_indicator_col\u001b[0m\u001b[0;34m=\u001b[0m\u001b[0;34m'vix'\u001b[0m\u001b[0;34m,\u001b[0m \u001b[0;34m**\u001b[0m\u001b[0menv_kwargs_llm_risk\u001b[0m\u001b[0;34m)\u001b[0m\u001b[0;34m\u001b[0m\u001b[0;34m\u001b[0m\u001b[0m\n\u001b[0m",
            "\u001b[0;31mNameError\u001b[0m: name 'env_kwargs_llm_risk' is not defined"
          ]
        }
      ],
      "source": [
        "e_trade_llm_risk_gym = StockTradingEnv_llm_risk(df = trade_llm_risk, turbulence_threshold = 70,risk_indicator_col='vix', **env_kwargs_llm_risk)"
      ]
    },
    {
      "cell_type": "code",
      "execution_count": null,
      "metadata": {
        "id": "279nlH-vAqqf"
      },
      "outputs": [],
      "source": [
        "# Environment for CPPO-DeepSeek 10% risk\n",
        "e_trade_llm_risk_gym = StockTradingEnv_llm_risk(df=trade_llm_risk, turbulence_threshold=70, risk_indicator_col='vix', **env_kwargs_llm_risk)\n",
        "\n",
        "# Environment for CPPO-DeepSeek 1% risk\n",
        "e_trade_llm_risk_gym_1 = StockTradingEnv_llm_risk_1(df=trade_llm_risk, turbulence_threshold=70, risk_indicator_col='vix', **env_kwargs_llm_risk)\n",
        "\n",
        "# Environment for CPPO-DeepSeek 0.1% risk\n",
        "e_trade_llm_risk_gym_01 = StockTradingEnv_llm_risk_01(df=trade_llm_risk, turbulence_threshold=70, risk_indicator_col='vix', **env_kwargs_llm_risk)"
      ]
    },
    {
      "cell_type": "code",
      "execution_count": null,
      "metadata": {
        "id": "rJhhdFjCqoxO"
      },
      "outputs": [],
      "source": [
        "observation_space=e_trade_gym.observation_space\n",
        "action_space=e_trade_gym.action_space"
      ]
    },
    {
      "cell_type": "code",
      "execution_count": 26,
      "metadata": {
        "id": "8g4u7Vtn0T8f"
      },
      "outputs": [],
      "source": [
        "observation_space_llm=e_trade_llm_gym.observation_space\n",
        "action_space_llm=e_trade_llm_gym.action_space"
      ]
    },
    {
      "cell_type": "code",
      "execution_count": null,
      "metadata": {
        "id": "RLy1zid3qonw"
      },
      "outputs": [],
      "source": [
        "observation_space_llm_risk=e_trade_llm_risk_gym.observation_space\n",
        "action_space_llm_risk=e_trade_llm_risk_gym.action_space"
      ]
    },
    {
      "cell_type": "code",
      "execution_count": null,
      "metadata": {
        "id": "4N_gisMeBaH-"
      },
      "outputs": [],
      "source": [
        "# Observation and action spaces for PPO-DeepSeek 10%\n",
        "observation_space_llm = e_trade_llm_gym.observation_space\n",
        "action_space_llm = e_trade_llm_gym.action_space\n",
        "\n",
        "# Observation and action spaces for PPO-DeepSeek 1%\n",
        "observation_space_llm_1 = e_trade_llm_gym_1.observation_space\n",
        "action_space_llm_1 = e_trade_llm_gym_1.action_space\n",
        "\n",
        "# Observation and action spaces for PPO-DeepSeek 0.1%\n",
        "observation_space_llm_01 = e_trade_llm_gym_01.observation_space\n",
        "action_space_llm_01 = e_trade_llm_gym_01.action_space\n",
        "\n",
        "# Observation and action spaces for CPPO-DeepSeek 10% risk\n",
        "observation_space_llm_risk = e_trade_llm_risk_gym.observation_space\n",
        "action_space_llm_risk = e_trade_llm_risk_gym.action_space\n",
        "\n",
        "# Observation and action spaces for CPPO-DeepSeek 1% risk\n",
        "observation_space_llm_risk_1 = e_trade_llm_risk_gym_1.observation_space\n",
        "action_space_llm_risk_1 = e_trade_llm_risk_gym_1.action_space\n",
        "\n",
        "# Observation and action spaces for CPPO-DeepSeek 0.1% risk\n",
        "observation_space_llm_risk_01 = e_trade_llm_risk_gym_01.observation_space\n",
        "action_space_llm_risk_01 = e_trade_llm_risk_gym_01.action_space"
      ]
    },
    {
      "cell_type": "code",
      "execution_count": 27,
      "metadata": {
        "colab": {
          "base_uri": "https://localhost:8080/"
        },
        "id": "p1JAAcJtiazG",
        "outputId": "cab9a01c-c7ba-42fe-f29d-185af2e068fd"
      },
      "outputs": [
        {
          "output_type": "stream",
          "name": "stdout",
          "text": [
            "State shape: (925,)\n"
          ]
        }
      ],
      "source": [
        "print(\"State shape:\", observation_space_llm.shape)"
      ]
    },
    {
      "cell_type": "code",
      "execution_count": 28,
      "metadata": {
        "id": "3QLfLLERWqam"
      },
      "outputs": [],
      "source": [
        "\n",
        "import numpy as np\n",
        "import scipy.signal\n",
        "from gymnasium.spaces import Box, Discrete\n",
        "\n",
        "import torch\n",
        "import torch.nn as nn\n",
        "from torch.distributions.normal import Normal\n",
        "from torch.distributions.categorical import Categorical\n",
        "\n",
        "\n",
        "def combined_shape(length, shape=None):\n",
        "    if shape is None:\n",
        "        return (length,)\n",
        "    return (length, shape) if np.isscalar(shape) else (length, *shape)\n",
        "\n",
        "\n",
        "def mlp(sizes, activation, output_activation=nn.Identity):\n",
        "    layers = []\n",
        "    for j in range(len(sizes)-1):\n",
        "        act = activation if j < len(sizes)-2 else output_activation\n",
        "        layers += [nn.Linear(sizes[j], sizes[j+1]), act()]\n",
        "    return nn.Sequential(*layers)\n",
        "\n",
        "\n",
        "def count_vars(module):\n",
        "    return sum([np.prod(p.shape) for p in module.parameters()])\n",
        "\n",
        "\n",
        "def discount_cumsum(x, discount):\n",
        "    \"\"\"\n",
        "    magic from rllab for computing discounted cumulative sums of vectors.\n",
        "\n",
        "    input:\n",
        "        vector x,\n",
        "        [x0,\n",
        "         x1,\n",
        "         x2]\n",
        "\n",
        "    output:\n",
        "        [x0 + discount * x1 + discount^2 * x2,\n",
        "         x1 + discount * x2,\n",
        "         x2]\n",
        "    \"\"\"\n",
        "    return scipy.signal.lfilter([1], [1, float(-discount)], x[::-1], axis=0)[::-1]\n",
        "\n",
        "\n",
        "class Actor(nn.Module):\n",
        "\n",
        "    def _distribution(self, obs):\n",
        "        raise NotImplementedError\n",
        "\n",
        "    def _log_prob_from_distribution(self, pi, act):\n",
        "        raise NotImplementedError\n",
        "\n",
        "    def forward(self, obs, act=None):\n",
        "        # Produce action distributions for given observations, and\n",
        "        # optionally compute the log likelihood of given actions under\n",
        "        # those distributions.\n",
        "        pi = self._distribution(obs)\n",
        "        logp_a = None\n",
        "        if act is not None:\n",
        "            logp_a = self._log_prob_from_distribution(pi, act)\n",
        "        return pi, logp_a\n",
        "\n",
        "\n",
        "class MLPCategoricalActor(Actor):\n",
        "\n",
        "    def __init__(self, obs_dim, act_dim, hidden_sizes, activation):\n",
        "        super().__init__()\n",
        "        self.logits_net = mlp([obs_dim] + list(hidden_sizes) + [act_dim], activation)\n",
        "\n",
        "    def _distribution(self, obs):\n",
        "        logits = self.logits_net(obs)\n",
        "        return Categorical(logits=logits)\n",
        "\n",
        "    def _log_prob_from_distribution(self, pi, act):\n",
        "        return pi.log_prob(act)\n",
        "\n",
        "\n",
        "class MLPGaussianActor(Actor):\n",
        "\n",
        "    def __init__(self, obs_dim, act_dim, hidden_sizes, activation):\n",
        "        super().__init__()\n",
        "        log_std = -0.5 * np.ones(act_dim, dtype=np.float32)\n",
        "        self.log_std = torch.nn.Parameter(torch.as_tensor(log_std))\n",
        "        self.mu_net = mlp([obs_dim] + list(hidden_sizes) + [act_dim], activation)\n",
        "\n",
        "    def _distribution(self, obs):\n",
        "        mu = self.mu_net(obs)\n",
        "        std = torch.exp(self.log_std)\n",
        "        return Normal(mu, std)\n",
        "\n",
        "    def _log_prob_from_distribution(self, pi, act):\n",
        "        return pi.log_prob(act).sum(axis=-1)    # Last axis sum needed for Torch Normal distribution\n",
        "\n",
        "\n",
        "class MLPCritic(nn.Module):\n",
        "\n",
        "    def __init__(self, obs_dim, hidden_sizes, activation):\n",
        "        super().__init__()\n",
        "        self.v_net = mlp([obs_dim] + list(hidden_sizes) + [1], activation)\n",
        "\n",
        "    def forward(self, obs):\n",
        "        return torch.squeeze(self.v_net(obs), -1) # Critical to ensure v has right shape.\n",
        "\n",
        "\n",
        "\n",
        "class MLPActorCritic(nn.Module):\n",
        "    def __init__(self, observation_space, action_space,\n",
        "                 hidden_sizes=(64, 64), activation=nn.Tanh):\n",
        "        super().__init__()\n",
        "\n",
        "        obs_dim = observation_space.shape[0]\n",
        "\n",
        "        # policy builder depends on action space\n",
        "        if isinstance(action_space, Box):\n",
        "            self.pi = MLPGaussianActor(obs_dim, action_space.shape[0], hidden_sizes, activation)\n",
        "        elif isinstance(action_space, Discrete):\n",
        "            self.pi = MLPCategoricalActor(obs_dim, action_space.n, hidden_sizes, activation)\n",
        "\n",
        "        # build value function\n",
        "        self.v = MLPCritic(obs_dim, hidden_sizes, activation)\n",
        "\n",
        "    def step(self, obs):\n",
        "        with torch.no_grad():\n",
        "            pi = self.pi._distribution(obs)\n",
        "            a = pi.sample()\n",
        "            logp_a = self.pi._log_prob_from_distribution(pi, a)\n",
        "            v = self.v(obs)\n",
        "        return a.numpy(), v.numpy(), logp_a.numpy()\n",
        "\n",
        "    def act(self, obs):\n",
        "        return self.step(obs)[0]"
      ]
    },
    {
      "cell_type": "code",
      "execution_count": 29,
      "metadata": {
        "colab": {
          "base_uri": "https://localhost:8080/"
        },
        "id": "Qn8dWL48IERC",
        "outputId": "5e9c25d7-3c66-46b4-fbb2-30f1faeb2f56"
      },
      "outputs": [
        {
          "output_type": "stream",
          "name": "stdout",
          "text": [
            "env_stocktrading_llama.py\t\t\t output_ppo_deepseek.log\n",
            "env_stocktrading_llama_risk.py\t\t\t output_ppo_llama_100_epochs_98_95_sentiment.log\n",
            "env_stocktrading_llm_01.py\t\t\t output_ppo_llama.log\n",
            "env_stocktrading_llm_1.py\t\t\t output_ppo_llm_deepseek.log\n",
            "env_stocktrading_llm.py\t\t\t\t output_ppo.log\n",
            "env_stocktrading_llm_risk_01.py\t\t\t __pycache__\n",
            "env_stocktrading_llm_risk_1.py\t\t\t README.md\n",
            "env_stocktrading_llm_risk.py\t\t\t risk_deepseek_deepinfra.py\n",
            "env_stocktrading.py\t\t\t\t sentiment_deepseek_deepinfra.py\n",
            "FinRL_DeepSeek_backtest.ipynb\t\t\t train_cppo_llama_risk.py\n",
            "hugging_face_upload.py\t\t\t\t train_cppo_llm_old.py\n",
            "IMG_20250207_175434_001.jpg\t\t\t train_cppo_llm_risk_01.py\n",
            "installation_script.sh\t\t\t\t train_cppo_llm_risk.py\n",
            "LICENSE\t\t\t\t\t\t train_cppo.py\n",
            "output_cppo_deepseek_risk_100_epochs_01.log\t train_ppo_llama.py\n",
            "output_cppo_deepseek_risk_100_epochs_99_101.log  train_ppo_llm.py\n",
            "output_cppo_deepseek_risk_100_epochs.log\t train_ppo.py\n",
            "output_cppo_llama_risk_100_epochs_98_95.log\t train_trade_data_deepseek_risk.py\n",
            "output_cppo_llama_risk.log\t\t\t train_trade_data_deepseek_sentiment.py\n",
            "output_cppo.log\t\t\t\t\t train_trade_data_deepseek_sentimwnt.py\n",
            "output_cppo_risk_deepseek.log\t\t\t train_trade_data_llama_risk.py\n",
            "output_ppo_deepseek_100_epochs_01.log\t\t train_trade_data.py\n",
            "output_ppo_deepseek_100_epochs_96_104_bumps.log  train_trade_data_qwen_risk.py\n",
            "output_ppo_deepseek_100_epochs_99_101_bumps.log  train_trade_data_sentiment_chunk.py\n"
          ]
        }
      ],
      "source": [
        "!dir"
      ]
    },
    {
      "cell_type": "code",
      "execution_count": null,
      "metadata": {
        "id": "yugg8DG4rWBF"
      },
      "outputs": [],
      "source": [
        "# Load the model\n",
        "loaded_ppo = MLPActorCritic(observation_space,action_space, hidden_sizes=(512, 512))\n",
        "loaded_ppo.load_state_dict(torch.load('/content/FinRL_LLM/trained_models/agent_ppo_100_epochs_20k_steps.pth'))\n",
        "#loaded_ppo.load_state_dict(torch.load('//content/agent_ppo_100_epochs_20k_steps.pth'))\n",
        "\n",
        "loaded_ppo.eval()  # Set the model to evaluation mode"
      ]
    },
    {
      "cell_type": "code",
      "execution_count": null,
      "metadata": {
        "id": "JbQWc49CtpVg"
      },
      "outputs": [],
      "source": [
        "# Load the model\n",
        "loaded_cppo = MLPActorCritic(observation_space,action_space, hidden_sizes=(512, 512))\n",
        "loaded_cppo.load_state_dict(torch.load('/content/FinRL_LLM/trained_models/agent_cppo_100_epochs_20k_steps.pth'))\n",
        "#loaded_ppo.load_state_dict(torch.load('/kaggle/input/agent_cppo_25_epochs_20k_steps/pytorch/default/1/agent_ppo_25_epochs_20k_steps.pth'))\n",
        "\n",
        "loaded_cppo.eval()  # Set the model to evaluation mode"
      ]
    },
    {
      "cell_type": "code",
      "execution_count": null,
      "metadata": {
        "id": "CfkgT-0B0vkc"
      },
      "outputs": [],
      "source": [
        "# Load the model\n",
        "loaded_ppo_llm = MLPActorCritic(observation_space_llm,action_space_llm, hidden_sizes=(512, 512))\n",
        "loaded_ppo_llm.load_state_dict(torch.load('/content/FinRL_LLM/trained_models/agent_ppo_deepseek_100_epochs_20k_steps.pth'))\n",
        "#loaded_ppo_llm.load_state_dict(torch.load('/kaggle/input/agent_cppo_25_epochs_20k_steps/pytorch/default/1/agent_ppo_25_epochs_20k_steps.pth'))\n",
        "\n",
        "loaded_ppo_llm.eval()  # Set the model to evaluation mode"
      ]
    },
    {
      "cell_type": "code",
      "execution_count": null,
      "metadata": {
        "id": "sj8yXDlM3ttH"
      },
      "outputs": [],
      "source": [
        "# Load the model\n",
        "loaded_ppo_llama = MLPActorCritic(observation_space_llm,action_space_llm, hidden_sizes=(512, 512))\n",
        "loaded_ppo_llama.load_state_dict(torch.load('/content/FinRL_LLM/trained_models/agent_ppo_llama_100_epochs_20k_steps.pth'))\n",
        "\n",
        "loaded_ppo_llm.eval()  # Set the model to evaluation mode"
      ]
    },
    {
      "cell_type": "code",
      "execution_count": null,
      "metadata": {
        "id": "QBJNjVeSIERC"
      },
      "outputs": [],
      "source": [
        "# Load the model\n",
        "loaded_cppo_llm_risk = MLPActorCritic(observation_space_llm_risk,action_space_llm_risk, hidden_sizes=(512, 512))\n",
        "loaded_cppo_llm_risk.load_state_dict(torch.load('/content/FinRL_LLM/trained_models/agent_cppo_deepseek_100_epochs_20k_steps.pth'))\n",
        "\n",
        "loaded_cppo_llm_risk.eval()  # Set the model to evaluation mode"
      ]
    },
    {
      "cell_type": "code",
      "execution_count": null,
      "metadata": {
        "id": "PSxZHm46CUI6"
      },
      "outputs": [],
      "source": [
        "# Load the PPO-DeepSeek 10% model\n",
        "loaded_ppo_llm = MLPActorCritic(observation_space_llm, action_space_llm, hidden_sizes=(512, 512))\n",
        "loaded_ppo_llm.load_state_dict(torch.load('/content/FinRL_LLM/trained_models/agent_ppo_deepseek_100_epochs_20k_steps.pth'))\n",
        "loaded_ppo_llm.eval()  # Set the model to evaluation mode\n",
        "\n",
        "\n",
        "# Load the PPO-DeepSeek 1% model\n",
        "loaded_ppo_llm_1 = MLPActorCritic(observation_space_llm_1, action_space_llm_1, hidden_sizes=(512, 512))\n",
        "loaded_ppo_llm_1.load_state_dict(torch.load('/content/FinRL_LLM/trained_models/agent_ppo_deepseek_100_epochs_20k_steps_1.pth'))\n",
        "loaded_ppo_llm_1.eval()\n",
        "\n",
        "# Load the PPO-DeepSeek 0.1% model\n",
        "loaded_ppo_llm_01 = MLPActorCritic(observation_space_llm_01, action_space_llm_01, hidden_sizes=(512, 512))\n",
        "loaded_ppo_llm_01.load_state_dict(torch.load('/content/FinRL_LLM/trained_models/agent_ppo_deepseek_100_epochs_20k_steps_01.pth'))\n",
        "loaded_ppo_llm_01.eval()\n",
        "\n",
        "# Load the CPPO-DeepSeek 10% risk model\n",
        "loaded_cppo_llm_risk = MLPActorCritic(observation_space_llm_risk, action_space_llm_risk, hidden_sizes=(512, 512))\n",
        "loaded_cppo_llm_risk.load_state_dict(torch.load('/content/FinRL_LLM/trained_models/agent_cppo_deepseek_100_epochs_20k_steps.pth'))\n",
        "loaded_cppo_llm_risk.eval()\n",
        "\n",
        "# Load the CPPO-DeepSeek 1% risk model\n",
        "loaded_cppo_llm_risk_1 = MLPActorCritic(observation_space_llm_risk_1, action_space_llm_risk_1, hidden_sizes=(512, 512))\n",
        "loaded_cppo_llm_risk_1.load_state_dict(torch.load('/content/FinRL_LLM/trained_models/agent_cppo_deepseek_100_epochs_20k_steps_1.pth'))\n",
        "loaded_cppo_llm_risk_1.eval()\n",
        "\n",
        "# Load the CPPO-DeepSeek 0.1% risk model\n",
        "loaded_cppo_llm_risk_01 = MLPActorCritic(observation_space_llm_risk_01, action_space_llm_risk_01, hidden_sizes=(512, 512))\n",
        "loaded_cppo_llm_risk_01.load_state_dict(torch.load('/content/FinRL_LLM/trained_models/agent_cppo_deepseek_100_epochs_20k_steps_01.pth'))\n",
        "loaded_cppo_llm_risk_01.eval()"
      ]
    },
    {
      "cell_type": "code",
      "execution_count": null,
      "metadata": {
        "id": "9ElguyMU4JqH"
      },
      "outputs": [],
      "source": [
        "\n",
        "\n",
        "# Load the model\n",
        "loaded_cppo_llama_risk = MLPActorCritic(observation_space_llm_risk,action_space_llm_risk, hidden_sizes=(512, 512))\n",
        "loaded_cppo_llama_risk.load_state_dict(torch.load('/content/FinRL_LLM/trained_models/agent_deepseek_20_epochs_20k_steps.pth'))\n",
        "\n",
        "loaded_cppo_llama_risk.eval()  # Set the model to evaluation mode"
      ]
    },
    {
      "cell_type": "code",
      "execution_count": null,
      "metadata": {
        "id": "QlWpTX1MP6Bp"
      },
      "outputs": [],
      "source": [
        "\n",
        "def DRL_prediction(act, environment):\n",
        "    import torch\n",
        "    _torch = torch\n",
        "\n",
        "    state, _ = environment.reset()\n",
        "    account_memory = []  # To store portfolio values\n",
        "    actions_memory = []  # To store actions taken\n",
        "    portfolio_distribution = []  # To store portfolio distribution\n",
        "    episode_total_assets = [environment.initial_amount]\n",
        "\n",
        "    with _torch.no_grad():\n",
        "        for i in range(len(environment.df.index.unique())):\n",
        "            s_tensor = _torch.as_tensor((state,), dtype=torch.float32, device=torch.device(\"cuda\" if torch.cuda.is_available() else \"cpu\"))\n",
        "            a_tensor, _, _ = act.step(s_tensor)  # Compute action\n",
        "            action = a_tensor[0]  # Extract action\n",
        "\n",
        "            # Step through the environment\n",
        "            state, reward, done, _, _ = environment.step(action)\n",
        "\n",
        "            # Get stock prices for the current day\n",
        "            price_array = environment.df.loc[environment.day, \"close\"].values\n",
        "\n",
        "            # Stock holdings and cash balance\n",
        "            stock_holdings = environment.num_stock_shares\n",
        "            cash_balance = environment.asset_memory[-1]\n",
        "\n",
        "            # Calculate total portfolio value\n",
        "            total_asset = cash_balance + (price_array * stock_holdings).sum()\n",
        "\n",
        "            # Calculate portfolio distribution\n",
        "            stock_values = price_array * stock_holdings\n",
        "            total_invested = stock_values.sum()\n",
        "            distribution = stock_values / total_asset  # Fraction of each stock in the total portfolio\n",
        "            cash_fraction = cash_balance / total_asset\n",
        "\n",
        "            # Store results\n",
        "            episode_total_assets.append(total_asset)\n",
        "            account_memory.append(total_asset)\n",
        "            actions_memory.append(action)\n",
        "            portfolio_distribution.append({\"cash\": cash_fraction, \"stocks\": distribution.tolist()})\n",
        "\n",
        "       #     print(\"Total Asset Value:\", total_asset)\n",
        "        #    print(\"Portfolio Distribution:\", {\"cash\": cash_fraction, \"stocks\": distribution.tolist()})\n",
        "\n",
        "            if done:\n",
        "                break\n",
        "\n",
        "    print(\"Test Finished!\")\n",
        "    return episode_total_assets, account_memory, actions_memory, portfolio_distribution"
      ]
    },
    {
      "cell_type": "code",
      "execution_count": null,
      "metadata": {
        "id": "B4kMJijJGHB9"
      },
      "outputs": [],
      "source": [
        "df_assets_cppo[:10]"
      ]
    },
    {
      "cell_type": "code",
      "execution_count": null,
      "metadata": {
        "id": "ogrWz13aP-FF"
      },
      "outputs": [],
      "source": [
        "df_assets_ppo, df_account_value_ppo, df_actions_ppo, df_portfolio_distribution_ppo = DRL_prediction(act=loaded_ppo, environment=e_trade_gym)\n",
        "#episode_total_assets, account_memory, actions_memory, portfolio_distribution = DRL_prediction(act=loaded_ppo, environment=e_trade_gym)"
      ]
    },
    {
      "cell_type": "code",
      "execution_count": null,
      "metadata": {
        "id": "be6M88NRIERD"
      },
      "outputs": [],
      "source": [
        "df_assets_cppo, df_account_value_cppo, df_actions_cppo, df_portfolio_distribution_cppo = DRL_prediction(act=loaded_cppo, environment=e_trade_gym)"
      ]
    },
    {
      "cell_type": "code",
      "execution_count": null,
      "metadata": {
        "id": "-5nrxQNBC_9y"
      },
      "outputs": [],
      "source": [
        "# Prediction for PPO-DeepSeek 10%\n",
        "df_assets_ppo_llm, df_account_value_ppo_llm, df_actions_ppo_llm, df_portfolio_distribution_ppo_llm = DRL_prediction(\n",
        "    act=loaded_ppo_llm, environment=e_trade_llm_gym\n",
        ")\n",
        "\n",
        "# Prediction for PPO-DeepSeek 1%\n",
        "df_assets_ppo_llm_1, df_account_value_ppo_llm_1, df_actions_ppo_llm_1, df_portfolio_distribution_ppo_llm_1 = DRL_prediction(\n",
        "    act=loaded_ppo_llm_1, environment=e_trade_llm_gym_1\n",
        ")\n",
        "\n",
        "# Prediction for PPO-DeepSeek 0.1%\n",
        "df_assets_ppo_llm_01, df_account_value_ppo_llm_01, df_actions_ppo_llm_01, df_portfolio_distribution_ppo_llm_01 = DRL_prediction(\n",
        "    act=loaded_ppo_llm_01, environment=e_trade_llm_gym_01\n",
        ")\n",
        "\n",
        "# Prediction for CPPO-DeepSeek 10% risk\n",
        "df_assets_cppo_llm_risk, df_account_value_cppo_llm_risk, df_actions_cppo_llm_risk, df_portfolio_distribution_cppo_llm_risk = DRL_prediction(\n",
        "    act=loaded_cppo_llm_risk, environment=e_trade_llm_risk_gym\n",
        ")\n",
        "\n",
        "# Prediction for CPPO-DeepSeek 1% risk\n",
        "df_assets_cppo_llm_risk_1, df_account_value_cppo_llm_risk_1, df_actions_cppo_llm_risk_1, df_portfolio_distribution_cppo_llm_risk_1 = DRL_prediction(\n",
        "   act=loaded_cppo_llm_risk_1, environment=e_trade_llm_risk_gym_1\n",
        ")\n",
        "\n",
        "# Prediction for CPPO-DeepSeek 0.1% risk\n",
        "df_assets_cppo_llm_risk_01, df_account_value_cppo_llm_risk_01, df_actions_cppo_llm_risk_01, df_portfolio_distribution_cppo_llm_risk_01 = DRL_prediction(\n",
        "   act=loaded_cppo_llm_risk_01, environment=e_trade_llm_risk_gym_01\n",
        ")"
      ]
    },
    {
      "cell_type": "code",
      "execution_count": null,
      "metadata": {
        "id": "oekpOfawIERD"
      },
      "outputs": [],
      "source": [
        "df_assets_ppo_llm, df_account_value_ppo_llm, df_actions_ppo_llm, df_portfolio_distribution_ppo_llm = DRL_prediction(act=loaded_ppo_llm, environment=e_trade_llm_gym)"
      ]
    },
    {
      "cell_type": "code",
      "execution_count": null,
      "metadata": {
        "id": "R4c8HxVG5BgS"
      },
      "outputs": [],
      "source": [
        "df_assets_ppo_llama, df_account_value_ppo_llama, df_actions_ppo_llama, df_portfolio_distribution_ppo_llama= DRL_prediction(act=loaded_ppo_llama, environment=e_trade_llm_gym)"
      ]
    },
    {
      "cell_type": "code",
      "execution_count": null,
      "metadata": {
        "id": "CG81RsbYt-2m"
      },
      "outputs": [],
      "source": [
        "df_assets_cppo_llm_risk, df_account_value_cppo_llm_risk, df_actions_cppo_llm_risk, df_portfolio_distribution_cppo_llm_risk = DRL_prediction(act=loaded_cppo_llm_risk, environment=e_trade_llm_risk_gym)"
      ]
    },
    {
      "cell_type": "code",
      "execution_count": null,
      "metadata": {
        "id": "1odVtewE5gdA"
      },
      "outputs": [],
      "source": [
        "df_assets_cppo_llama_risk, df_account_value_cppo_llama_risk, df_actions_cppo_llama_risk, df_portfolio_distribution_cppo_llama_risk = DRL_prediction(act=loaded_cppo_llama_risk, environment=e_trade_llm_risk_gym)"
      ]
    },
    {
      "cell_type": "markdown",
      "metadata": {
        "id": "I5sgGe7g1HsL"
      },
      "source": [
        "# Part 4: NASDAQ 100 index"
      ]
    },
    {
      "cell_type": "markdown",
      "metadata": {
        "id": "sVe_ufxTY2CW"
      },
      "source": [
        "**Add** NASDAQ 100 index as a baseline to compare with."
      ]
    },
    {
      "cell_type": "code",
      "execution_count": null,
      "metadata": {
        "id": "sACPzsI-6k8q"
      },
      "outputs": [],
      "source": [
        "TRAIN_START_DATE = '2013-01-01'\n",
        "TRAIN_END_DATE = '2018-12-31'\n",
        "TRADE_START_DATE = '2019-01-01'\n",
        "TRADE_END_DATE = '2023-12-31'"
      ]
    },
    {
      "cell_type": "code",
      "execution_count": null,
      "metadata": {
        "id": "TuszW-OB1K0m"
      },
      "outputs": [],
      "source": [
        "df_dji = YahooDownloader(\n",
        "    start_date=TRADE_START_DATE, end_date=TRADE_END_DATE, ticker_list=[\"ndx\"]\n",
        ").fetch_data()"
      ]
    },
    {
      "cell_type": "code",
      "execution_count": null,
      "metadata": {
        "id": "PyYTWH4wFRRF"
      },
      "outputs": [],
      "source": [
        "len(df_dji)"
      ]
    },
    {
      "cell_type": "code",
      "execution_count": null,
      "metadata": {
        "id": "kA19bifsGMqb"
      },
      "outputs": [],
      "source": [
        "df_dji[:10]"
      ]
    },
    {
      "cell_type": "code",
      "execution_count": null,
      "metadata": {
        "id": "Q3RXz72U1VbV"
      },
      "outputs": [],
      "source": [
        "df_dji = df_dji[[\"date\", \"close\"]]\n",
        "fst_day = df_dji[\"close\"][0]\n",
        "dji = pd.merge(\n",
        "    df_dji[\"date\"],\n",
        "    df_dji[\"close\"].div(fst_day).mul(1000000),\n",
        "    how=\"outer\",\n",
        "    left_index=True,\n",
        "    right_index=True,\n",
        ").set_index(\"date\")"
      ]
    },
    {
      "cell_type": "code",
      "execution_count": null,
      "metadata": {
        "id": "Oas3Sr27etXW"
      },
      "outputs": [],
      "source": [
        "fst_day = df_dji[\"close\"].iloc[0]  # Safely get the first value\n",
        "df_dji_normalized_close = list(df_dji[\"close\"].div(fst_day).mul(1000000))"
      ]
    },
    {
      "cell_type": "code",
      "execution_count": null,
      "metadata": {
        "id": "Is9cHiyVIERF"
      },
      "outputs": [],
      "source": [
        "len(df_dji_normalized_close),"
      ]
    },
    {
      "cell_type": "markdown",
      "metadata": {
        "id": "W6vvNSC6h1jZ"
      },
      "source": [
        "<a id='4'></a>\n",
        "# Part 5: Backtesting Results\n",
        "Backtesting plays a key role in evaluating the performance of a trading strategy. Automated backtesting tool is preferred because it reduces the human error. We usually use the Quantopian pyfolio package to backtest our trading strategies. It is easy to use and consists of various individual plots that provide a comprehensive image of the performance of a trading strategy."
      ]
    },
    {
      "cell_type": "markdown",
      "metadata": {
        "id": "QQuc5hI9Yklt"
      },
      "source": [
        "Now, everything is ready, we can plot the backtest result."
      ]
    },
    {
      "cell_type": "code",
      "execution_count": null,
      "metadata": {
        "id": "fr1r8E3IcLzJ"
      },
      "outputs": [],
      "source": [
        "fst_day_ppo = df_assets_ppo[1]  # Safely get the first value\n",
        "df_assets_ppo_series = pd.Series(df_assets_ppo[1:])\n",
        "df_ppo_normalized_close = list(df_assets_ppo_series.div(fst_day_ppo).mul(1000000))"
      ]
    },
    {
      "cell_type": "code",
      "execution_count": null,
      "metadata": {
        "id": "FcQMDRq9zRqU"
      },
      "outputs": [],
      "source": [
        "# Normalize PPO-DeepSeek 10%\n",
        "fst_day_ppo_llm = df_assets_ppo_llm[1]  # Safely get the first value\n",
        "df_assets_ppo_llm_series = pd.Series(df_assets_ppo_llm[1:])\n",
        "df_ppo_llm_normalized_close = list(df_assets_ppo_llm_series.div(fst_day_ppo_llm).mul(1000000))\n",
        "\n",
        "# Normalize PPO-DeepSeek 1%\n",
        "fst_day_ppo_llm_1 = df_assets_ppo_llm_1[1]  # Safely get the first value\n",
        "df_assets_ppo_llm_series_1 = pd.Series(df_assets_ppo_llm_1[1:])\n",
        "df_ppo_llm_normalized_close_1 = list(df_assets_ppo_llm_series_1.div(fst_day_ppo_llm_1).mul(1000000))\n",
        "\n",
        "# Normalize PPO-DeepSeek 0.1%\n",
        "#fst_day_ppo_llm_01 = df_assets_ppo_llm_01[1]  # Safely get the first value\n",
        "#df_assets_ppo_llm_series_01 = pd.Series(df_assets_ppo_llm_01[1:])\n",
        "#df_ppo_llm_normalized_close_01 = list(df_assets_ppo_llm_series_01.div(fst_day_ppo_llm_01).mul(1000000))"
      ]
    },
    {
      "cell_type": "code",
      "execution_count": null,
      "metadata": {
        "id": "AV0EBpPC81Ea"
      },
      "outputs": [],
      "source": [
        "# prompt: repeat the same renormalization as above for cppo, cppo_llm_risk and ppo_llm\n",
        "\n",
        "fst_day_ppo_llama = df_assets_ppo_llama[1]  # Safely get the first value\n",
        "df_assets_ppo_llama_series = pd.Series(df_assets_ppo_llama[1:])\n",
        "df_ppo_llama_normalized_close = list(df_assets_ppo_llama_series.div(fst_day_ppo_llama).mul(1000000))"
      ]
    },
    {
      "cell_type": "code",
      "execution_count": null,
      "metadata": {
        "id": "G7r6-O6rz23T"
      },
      "outputs": [],
      "source": [
        "\n",
        "fst_day_cppo = df_assets_cppo[1]  # Safely get the first value\n",
        "df_assets_cppo_series = pd.Series(df_assets_cppo[1:])\n",
        "df_cppo_normalized_close = list(df_assets_cppo_series.div(fst_day_cppo).mul(1000000))"
      ]
    },
    {
      "cell_type": "code",
      "execution_count": null,
      "metadata": {
        "id": "9Xzfz5kzxRs2"
      },
      "outputs": [],
      "source": [
        "# Normalize CPPO-DeepSeek 10%\n",
        "fst_day_cppo_llm_risk = df_assets_cppo_llm_risk[1]  # Safely get the first value\n",
        "df_assets_cppo_llm_risk_series = pd.Series(df_assets_cppo_llm_risk[1:])\n",
        "df_cppo_llm_risk_normalized_close = list(df_assets_cppo_llm_risk_series.div(fst_day_cppo_llm_risk).mul(1000000))\n",
        "\n",
        "# Normalize CPPO-DeepSeek 1%\n",
        "fst_day_cppo_llm_risk_1 = df_assets_cppo_llm_risk_1[1]  # Safely get the first value\n",
        "df_assets_cppo_llm_risk_series_1 = pd.Series(df_assets_cppo_llm_risk_1[1:])\n",
        "df_cppo_llm_risk_normalized_close_1 = list(df_assets_cppo_llm_risk_series_1.div(fst_day_cppo_llm_risk_1).mul(1000000))\n",
        "\n",
        "# Normalize CPPO-DeepSeek 0.1%\n",
        "fst_day_cppo_llm_risk_01 = df_assets_cppo_llm_risk_01[1]  # Safely get the first value\n",
        "df_assets_cppo_llm_risk_series_01 = pd.Series(df_assets_cppo_llm_risk_01[1:])\n",
        "df_cppo_llm_risk_normalized_close_01 = list(df_assets_cppo_llm_risk_series_01.div(fst_day_cppo_llm_risk_01).mul(1000000))"
      ]
    },
    {
      "cell_type": "code",
      "execution_count": null,
      "metadata": {
        "id": "wmp4VJVv84o1"
      },
      "outputs": [],
      "source": [
        "# prompt: repeat the same renormalization as above for cppo, cppo_llama_risk and ppo_llama\n",
        "\n",
        "fst_day_cppo_llama_risk = df_assets_cppo_llama_risk[1]  # Safely get the first value\n",
        "df_assets_cppo_llama_risk_series = pd.Series(df_assets_cppo_llama_risk[1:])\n",
        "df_cppo_llama_risk_normalized_close = list(df_assets_cppo_llama_risk_series.div(fst_day_cppo_llama_risk).mul(1000000))"
      ]
    },
    {
      "cell_type": "code",
      "execution_count": null,
      "metadata": {
        "id": "hz0VfttJ4rmr"
      },
      "outputs": [],
      "source": [
        "len(trade['date'].drop_duplicates().values)"
      ]
    },
    {
      "cell_type": "code",
      "execution_count": null,
      "metadata": {
        "id": "_34-nMA5IERH"
      },
      "outputs": [],
      "source": [
        "def filter_to_common_dates(trade, df_dji, df_assets_ppo, df_dji_normalized_close):\n",
        "    \"\"\"\n",
        "    Filters df_assets_ppo and df_dji_normalized_close based on the common dates from trade and df_dji.\n",
        "\n",
        "    Parameters:\n",
        "        trade (pd.DataFrame): DataFrame containing a 'date' column for the trade data.\n",
        "        df_dji (pd.DataFrame): DataFrame containing a 'date' column for DJI data.\n",
        "        df_assets_ppo (list or array-like): Values corresponding to trade['date'].\n",
        "        df_dji_normalized_close (list or array-like): Values corresponding to df_dji['date'].\n",
        "\n",
        "    Returns:\n",
        "        pd.Series, pd.Series: Filtered series for df_assets_ppo and df_dji_normalized_close.\n",
        "    \"\"\"\n",
        "    # Extract unique trading dates from trade and DJI dates\n",
        "    trade_dates = pd.to_datetime(trade['date'].unique())\n",
        "    dji_dates = pd.to_datetime(df_dji['date'].unique())\n",
        "\n",
        "\n",
        "  #  first_date = trade_dates[0]\n",
        "   # date_before_first = first_date - pd.DateOffset(days=1)\n",
        "\n",
        "# Prepend the date before the first date to trade_dates\n",
        "    #trade_dates = pd.DatetimeIndex([date_before_first] + trade_dates.tolist())\n",
        "\n",
        "    # Convert inputs to pandas Series with their respective dates as indices\n",
        "    df_assets_ppo_series = pd.Series(df_assets_ppo, index=trade_dates)\n",
        "    df_dji_normalized_close_series = pd.Series(df_dji_normalized_close, index=dji_dates)\n",
        "\n",
        "    # Find the common dates\n",
        "    common_dates = trade_dates.intersection(dji_dates)\n",
        "\n",
        "    # Filter both series to the common dates\n",
        "    df_assets_ppo_filtered = df_assets_ppo_series.reindex(common_dates)\n",
        "    df_dji_normalized_close_filtered = df_dji_normalized_close_series.reindex(common_dates)\n",
        "\n",
        "    # Return the filtered series\n",
        "    return df_assets_ppo_filtered, df_dji_normalized_close_filtered, common_dates"
      ]
    },
    {
      "cell_type": "code",
      "execution_count": null,
      "metadata": {
        "id": "Geb0XetR4Bii"
      },
      "outputs": [],
      "source": [
        "common_dates"
      ]
    },
    {
      "cell_type": "code",
      "execution_count": null,
      "metadata": {
        "id": "ZZZbfGm94N9u"
      },
      "outputs": [],
      "source": []
    },
    {
      "cell_type": "code",
      "execution_count": null,
      "metadata": {
        "id": "9ItlaDvMIERH"
      },
      "outputs": [],
      "source": [
        "df_assets_ppo_filtered, df_dji_normalized_close_filtered, common_dates = filter_to_common_dates(trade, df_dji, df_ppo_normalized_close, df_dji_normalized_close)"
      ]
    },
    {
      "cell_type": "code",
      "execution_count": null,
      "metadata": {
        "id": "9ta1O-fCIERH"
      },
      "outputs": [],
      "source": [
        "df_assets_cppo_filtered, df_dji_normalized_close_filtered, common_dates = filter_to_common_dates(trade, df_dji, df_cppo_normalized_close, df_dji_normalized_close)"
      ]
    },
    {
      "cell_type": "code",
      "execution_count": null,
      "metadata": {
        "id": "4X15zzzNS5Su"
      },
      "outputs": [],
      "source": [
        "df_assets_ppo_llm_filtered, df_dji_normalized_close_filtered, common_dates = filter_to_common_dates(trade, df_dji, df_ppo_llm_normalized_close, df_dji_normalized_close)\n",
        "df_assets_ppo_llm_filtered_1, _, _ = filter_to_common_dates(\n",
        "    trade, df_dji, df_ppo_llm_normalized_close_1, df_dji_normalized_close\n",
        ")\n",
        "\n",
        "#df_assets_ppo_llm_filtered_01, _, _ = filter_to_common_dates(\n",
        "   # trade, df_dji, df_ppo_llm_normalized_close_01, df_dji_normalized_close\n",
        "#)"
      ]
    },
    {
      "cell_type": "code",
      "execution_count": null,
      "metadata": {
        "id": "sJAAl-dW-K-m"
      },
      "outputs": [],
      "source": [
        "df_assets_ppo_llama_filtered, df_dji_normalized_close_filtered, common_dates = filter_to_common_dates(trade, df_dji, df_ppo_llama_normalized_close, df_dji_normalized_close)"
      ]
    },
    {
      "cell_type": "code",
      "execution_count": null,
      "metadata": {
        "id": "ykZ0VWyQ_PsT"
      },
      "outputs": [],
      "source": [
        "df_assets_cppo_llm_risk_filtered, df_dji_normalized_close_filtered, common_dates = filter_to_common_dates(trade, df_dji, df_cppo_llm_risk_normalized_close, df_dji_normalized_close)\n",
        "df_assets_cppo_llm_risk_filtered_1, _, _ = filter_to_common_dates(\n",
        "    trade, df_dji, df_cppo_llm_risk_normalized_close_1, df_dji_normalized_close\n",
        ")\n",
        "\n",
        "df_assets_cppo_llm_risk_filtered_01, _, _ = filter_to_common_dates(\n",
        "    trade, df_dji, df_cppo_llm_risk_normalized_close_01, df_dji_normalized_close\n",
        ")"
      ]
    },
    {
      "cell_type": "code",
      "execution_count": null,
      "metadata": {
        "id": "upQkVWmj-Y44"
      },
      "outputs": [],
      "source": [
        "#df_assets_cppo_llama_risk_filtered, df_dji_normalized_close_filtered, common_dates = filter_to_common_dates(trade, df_dji, df_cppo_llama_risk_normalized_close, df_dji_normalized_close)"
      ]
    },
    {
      "cell_type": "code",
      "execution_count": null,
      "metadata": {
        "id": "4Xq51tyCABS4"
      },
      "outputs": [],
      "source": []
    },
    {
      "cell_type": "code",
      "execution_count": null,
      "metadata": {
        "id": "NqndNrzUIERI"
      },
      "outputs": [],
      "source": [
        "df_dji_normalized_close_filtered[1]"
      ]
    },
    {
      "cell_type": "code",
      "execution_count": null,
      "metadata": {
        "id": "O8r0skxjIERI"
      },
      "outputs": [],
      "source": [
        "result = pd.DataFrame(\n",
        "    {\n",
        "        \"PPO 100 epochs\": df_assets_ppo_filtered,\n",
        "        \"CPPO 100 epochs\": df_assets_cppo_filtered,\n",
        "        \"PPO-DeepSeek 100 epochs\": df_assets_ppo_llm_filtered,\n",
        "    #    \"PPO-Llama 100 epochs\": df_assets_ppo_llama_filtered,\n",
        "        \"CPPO-DeepSeek 100 epochs\": df_assets_cppo_llm_risk_filtered,\n",
        "    #    \"CPPO-Llama 20 epochs\": df_assets_cppo_llama_risk_filtered,\n",
        "        \"Nasdaq-100 index\": df_dji_normalized_close_filtered,\n",
        "    }\n",
        ")\n",
        "\n",
        "# Display the result\n",
        "print(result)"
      ]
    },
    {
      "cell_type": "code",
      "execution_count": null,
      "metadata": {
        "id": "tKdCaLL2wgT2"
      },
      "outputs": [],
      "source": [
        "result_ppo = pd.DataFrame(\n",
        "    {\n",
        "        \"PPO\": df_assets_ppo_filtered,\n",
        "        \"PPO-DeepSeek 10%\": df_assets_ppo_llm_filtered,\n",
        "        \"PPO-DeepSeek 1%\": df_assets_ppo_llm_filtered_1,\n",
        "        \"PPO-DeepSeek 0.1%\": df_assets_ppo_llm_filtered_01,\n",
        "        \"Nasdaq-100 index\": df_dji_normalized_close_filtered,\n",
        "    }\n",
        ")"
      ]
    },
    {
      "cell_type": "code",
      "execution_count": null,
      "metadata": {
        "id": "BA312yPAwjky"
      },
      "outputs": [],
      "source": [
        "result_cppo = pd.DataFrame(\n",
        "    {\n",
        "        #\"PPO 100 epochs\": df_assets_ppo_filtered,\n",
        "        \"CPPO\": df_assets_cppo_filtered,\n",
        "        \"CPPO-DeepSeek 10%\": df_assets_cppo_llm_risk_filtered,\n",
        "        \"CPPO-DeepSeek 1%\": df_assets_cppo_llm_risk_filtered_1,\n",
        "        \"CPPO-DeepSeek 0.1%\": df_assets_cppo_llm_risk_filtered_01,\n",
        "        \"Nasdaq-100 index\": df_dji_normalized_close_filtered,\n",
        "    }\n",
        ")"
      ]
    },
    {
      "cell_type": "code",
      "execution_count": null,
      "metadata": {
        "id": "DznFUPeo7qOe"
      },
      "outputs": [],
      "source": [
        "\n",
        "import numpy as np\n",
        "import pandas as pd\n",
        "import matplotlib.pyplot as plt\n",
        "%matplotlib inline\n",
        "\n",
        "# Utility Functions\n",
        "def calculate_metric(returns_strategy, returns_benchmark, confidence_level=0.05, upside_confidence=0.95):\n",
        "    \"\"\"Calculate performance metrics: IR, CVaR, and Rachev Ratio.\"\"\"\n",
        "    excess_return = returns_strategy - returns_benchmark\n",
        "    ir = excess_return.mean() / excess_return.std()\n",
        "    var = np.percentile(returns_strategy, confidence_level * 100)\n",
        "    cvar = returns_strategy[returns_strategy <= var].mean()\n",
        "    upside_var = np.percentile(returns_strategy, upside_confidence * 100)\n",
        "    downside_var = var\n",
        "    rachev_ratio = returns_strategy[returns_strategy >= upside_var].mean() / abs(returns_strategy[returns_strategy <= downside_var].mean())\n",
        "    return {\"Information Ratio\": ir, \"CVaR\": cvar, \"Rachev Ratio\": rachev_ratio}\n",
        "\n",
        "def align_returns(result, col_strategy, col_benchmark):\n",
        "    \"\"\"Align returns for strategy and benchmark.\"\"\"\n",
        "    returns_strategy = result[col_strategy].pct_change().dropna()\n",
        "    returns_benchmark = result[col_benchmark].pct_change().dropna()\n",
        "    return returns_strategy.align(returns_benchmark, join=\"inner\")\n",
        "\n",
        "# Metrics Calculation\n",
        "def compute_metrics(result, strategies, benchmark, confidence_level=0.05, upside_confidence=0.95):\n",
        "    \"\"\"\n",
        "    Compute metrics for multiple strategies compared to a benchmark.\n",
        "\n",
        "    Parameters:\n",
        "        result (pd.DataFrame): DataFrame with strategies and benchmark columns.\n",
        "        strategies (list): List of strategy column names.\n",
        "        benchmark (str): Benchmark column name.\n",
        "        confidence_level (float): Confidence level for CVaR calculation.\n",
        "        upside_confidence (float): Confidence level for upside in Rachev Ratio.\n",
        "\n",
        "    Returns:\n",
        "        dict: Performance metrics for each strategy.\n",
        "    \"\"\"\n",
        "    metrics = {}\n",
        "    for strategy in strategies:\n",
        "        aligned_strategy, aligned_benchmark = align_returns(result, strategy, benchmark)\n",
        "        metrics[strategy] = calculate_metric(\n",
        "            aligned_strategy, aligned_benchmark, confidence_level, upside_confidence\n",
        "        )\n",
        "    return metrics\n",
        "\n",
        "# Plotting\n",
        "def plot_cumulative_returns(result, metrics, strategies, benchmark):\n",
        "    \"\"\"\n",
        "    Plot cumulative returns for strategies and benchmark with annotated metrics.\n",
        "\n",
        "    Parameters:\n",
        "        result (pd.DataFrame): DataFrame with strategies and benchmark.\n",
        "        metrics (dict): Performance metrics.\n",
        "        strategies (list): List of strategy column names.\n",
        "        benchmark (str): Benchmark column name.\n",
        "    \"\"\"\n",
        "    plt.figure(figsize=(12, 6))\n",
        "    for strategy in strategies:\n",
        "        cumulative_returns = (1 + result[strategy].pct_change().dropna()).cumprod()\n",
        "        plt.plot(cumulative_returns, label=f\"{strategy}\")\n",
        "    cumulative_benchmark = (1 + result[benchmark].pct_change().dropna()).cumprod()\n",
        "    plt.plot(cumulative_benchmark, label=f\"{benchmark} (Benchmark)\")\n",
        "    plt.title(\"Cumulative Returns with Performance Metrics\")\n",
        "    plt.legend()\n",
        "    plt.xlabel(\"Date\")\n",
        "    plt.ylabel(\"Cumulative Return\")\n",
        "    plt.grid()\n",
        "    plt.show()"
      ]
    },
    {
      "cell_type": "code",
      "execution_count": null,
      "metadata": {
        "id": "Edx_YvNyWB6W"
      },
      "outputs": [],
      "source": [
        "\n",
        "\n",
        "\n",
        "import numpy as np\n",
        "import pandas as pd\n",
        "import matplotlib.pyplot as plt\n",
        "%matplotlib inline\n",
        "\n",
        "# Utility Functions\n",
        "def calculate_metric(returns_strategy, returns_benchmark, confidence_level=0.05, upside_confidence=0.95):\n",
        "    \"\"\"Calculate performance metrics: IR, CVaR, and Rachev Ratio.\"\"\"\n",
        "    excess_return = returns_strategy - returns_benchmark\n",
        "    ir = excess_return.mean() / excess_return.std()\n",
        "    var = np.percentile(returns_strategy, confidence_level * 100)\n",
        "    cvar = returns_strategy[returns_strategy <= var].mean()\n",
        "    upside_var = np.percentile(returns_strategy, upside_confidence * 100)\n",
        "    downside_var = var\n",
        "    rachev_ratio = returns_strategy[returns_strategy >= upside_var].mean() / abs(returns_strategy[returns_strategy <= downside_var].mean())\n",
        "    return {\"Information Ratio\": ir, \"CVaR\": cvar, \"Rachev Ratio\": rachev_ratio}\n",
        "\n",
        "def align_returns(result, col_strategy, col_benchmark):\n",
        "    \"\"\"Align returns for strategy and benchmark.\"\"\"\n",
        "    returns_strategy = result[col_strategy].pct_change().dropna()\n",
        "    returns_benchmark = result[col_benchmark].pct_change().dropna()\n",
        "    return returns_strategy.align(returns_benchmark, join=\"inner\")\n",
        "\n",
        "# Metrics Calculation\n",
        "def compute_metrics(result, strategies, benchmark, confidence_level=0.05, upside_confidence=0.95):\n",
        "    \"\"\"\n",
        "    Compute metrics for multiple strategies compared to a benchmark.\n",
        "\n",
        "    Parameters:\n",
        "        result (pd.DataFrame): DataFrame with strategies and benchmark columns.\n",
        "        strategies (list): List of strategy column names.\n",
        "        benchmark (str): Benchmark column name.\n",
        "        confidence_level (float): Confidence level for CVaR calculation.\n",
        "        upside_confidence (float): Confidence level for upside in Rachev Ratio.\n",
        "\n",
        "    Returns:\n",
        "        dict: Performance metrics for each strategy.\n",
        "    \"\"\"\n",
        "    metrics = {}\n",
        "    for strategy in strategies:\n",
        "        aligned_strategy, aligned_benchmark = align_returns(result, strategy, benchmark)\n",
        "        metrics[strategy] = calculate_metric(\n",
        "            aligned_strategy, aligned_benchmark, confidence_level, upside_confidence\n",
        "        )\n",
        "    return metrics\n",
        "\n",
        "# Plotting\n",
        "def plot_cumulative_returns(result, metrics, strategies, benchmark):\n",
        "    \"\"\"\n",
        "    Plot cumulative returns for strategies and benchmark with annotated metrics.\n",
        "\n",
        "    Parameters:\n",
        "        result (pd.DataFrame): DataFrame with strategies and benchmark.\n",
        "        metrics (dict): Performance metrics.\n",
        "        strategies (list): List of strategy column names.\n",
        "        benchmark (str): Benchmark column name.\n",
        "    \"\"\"\n",
        "    plt.figure(figsize=(12, 6))\n",
        "    for strategy in strategies:\n",
        "        cumulative_returns = (1 + result[strategy].pct_change().dropna()).cumprod()\n",
        "        plt.plot(cumulative_returns, label=f\"{strategy}\")\n",
        "    cumulative_benchmark = (1 + result[benchmark].pct_change().dropna()).cumprod()\n",
        "    plt.plot(cumulative_benchmark, label=f\"{benchmark} (Benchmark)\")\n",
        "    plt.title(\"Cumulative Returns with Performance Metrics\")\n",
        "    plt.legend()\n",
        "    plt.xlabel(\"Date\")\n",
        "    plt.ylabel(\"Cumulative Return\")\n",
        "    plt.grid()\n",
        "    plt.show()\n",
        "\n",
        "# Example Usage\n",
        "# Assuming `result` DataFrame is prepared with \"PPO 25 epochs\", \"CPPO 25 epochs\", and \"Nasdaq-100 index\"\n",
        "strategies = [\n",
        "\"PPO 100 epochs\",\n",
        "\"CPPO 100 epochs\",\n",
        "\"PPO-DeepSeek 100 epochs\",\n",
        "#\"PPO-Llama 100 epochs\",\n",
        "\"CPPO-DeepSeek 100 epochs\"\n",
        "#\"CPPO-Llama 100 epochs\",\n",
        "]\n",
        "#strategies = [\"PPO 20 epochs\", \"CPPO 20 epochs\", \"CPPO-DeepSeek 20 epochs\"]\n",
        "benchmark = \"Nasdaq-100 index\"\n",
        "metrics = compute_metrics(result, strategies, benchmark)\n",
        "plot_cumulative_returns(result, metrics, strategies, benchmark)\n",
        "\n",
        "# Print metrics\n",
        "for strategy, strategy_metrics in metrics.items():\n",
        "    print(f\"{strategy} Metrics:\")\n",
        "    for metric_name, value in strategy_metrics.items():\n",
        "        print(f\"  {metric_name}: {value:.4f}\")"
      ]
    },
    {
      "cell_type": "code",
      "execution_count": null,
      "metadata": {
        "id": "P4r51JW_ezkc"
      },
      "outputs": [],
      "source": [
        "# Example Usage\n",
        "# Assuming `result` DataFrame is prepared with \"PPO 25 epochs\", \"CPPO 25 epochs\", and \"Nasdaq-100 index\"\n",
        "strategies = [\n",
        "\"PPO\",\n",
        "\"PPO-DeepSeek 10%\",\n",
        "\"PPO-DeepSeek 1%\",\n",
        "\"PPO-DeepSeek 0.1%\"\n",
        "#\"CPPO-Llama 100 epochs\",\n",
        "]\n",
        "#strategies = [\"PPO 20 epochs\", \"CPPO 20 epochs\", \"CPPO-DeepSeek 20 epochs\"]\n",
        "benchmark = \"Nasdaq-100 index\"\n",
        "metrics = compute_metrics(result_ppo, strategies, benchmark)\n",
        "plot_cumulative_returns(result_ppo, metrics, strategies, benchmark)\n",
        "\n",
        "# Print metrics\n",
        "for strategy, strategy_metrics in metrics.items():\n",
        "    print(f\"{strategy} Metrics:\")\n",
        "    for metric_name, value in strategy_metrics.items():\n",
        "        print(f\"  {metric_name}: {value:.4f}\")"
      ]
    },
    {
      "cell_type": "code",
      "execution_count": null,
      "metadata": {
        "id": "aLc3y5jJfOkt"
      },
      "outputs": [],
      "source": [
        "# Example Usage\n",
        "# Assuming `result` DataFrame is prepared with \"PPO 25 epochs\", \"CPPO 25 epochs\", and \"Nasdaq-100 index\"\n",
        "strategies = [\n",
        "\"CPPO\",\n",
        "\"CPPO-DeepSeek 10%\",\n",
        "\"CPPO-DeepSeek 1%\",\n",
        "\"CPPO-DeepSeek 0.1%\"\n",
        "#\"CPPO-Llama 100 epochs\",\n",
        "]\n",
        "#strategies = [\"PPO 20 epochs\", \"CPPO 20 epochs\", \"CPPO-DeepSeek 20 epochs\"]\n",
        "benchmark = \"Nasdaq-100 index\"\n",
        "metrics = compute_metrics(result_cppo, strategies, benchmark)\n",
        "plot_cumulative_returns(result, metrics, strategies, benchmark)\n",
        "\n",
        "# Print metrics\n",
        "for strategy, strategy_metrics in metrics.items():\n",
        "    print(f\"{strategy} Metrics:\")\n",
        "    for metric_name, value in strategy_metrics.items():\n",
        "        print(f\"  {metric_name}: {value:.4f}\")"
      ]
    },
    {
      "cell_type": "code",
      "execution_count": null,
      "metadata": {
        "id": "DNaQ5xTuIERI"
      },
      "outputs": [],
      "source": [
        "import numpy as np\n",
        "import pandas as pd\n",
        "import matplotlib.pyplot as plt\n",
        "%matplotlib inline\n",
        "\n",
        "def calculate_information_ratio(returns_strategy, returns_benchmark):\n",
        "    \"\"\"Calculate the Information Ratio (IR).\"\"\"\n",
        "    excess_return = returns_strategy - returns_benchmark\n",
        "    return excess_return.mean() / excess_return.std()\n",
        "\n",
        "def calculate_cvar(returns_strategy, confidence_level=0.05):\n",
        "    \"\"\"Calculate the Conditional Value at Risk (CVaR).\"\"\"\n",
        "    var = np.percentile(returns_strategy, confidence_level * 100)\n",
        "    return returns_strategy[returns_strategy <= var].mean()\n",
        "\n",
        "def calculate_rachev_ratio(returns_strategy, upside_confidence=0.95, downside_confidence=0.05):\n",
        "    \"\"\"Calculate the Rachev Ratio.\"\"\"\n",
        "    upside_var = np.percentile(returns_strategy, upside_confidence * 100)\n",
        "    downside_var = np.percentile(returns_strategy, downside_confidence * 100)\n",
        "    upside_mean = returns_strategy[returns_strategy >= upside_var].mean()\n",
        "    downside_mean = abs(returns_strategy[returns_strategy <= downside_var].mean())\n",
        "    return upside_mean / downside_mean\n",
        "\n",
        "def align_and_compute_metrics(result, confidence_level=0.05, upside_confidence=0.95):\n",
        "    \"\"\"\n",
        "    Align data for PPO, CPPO, and benchmark, and compute performance metrics.\n",
        "\n",
        "    Parameters:\n",
        "        result (pd.DataFrame): DataFrame with strategies and benchmark.\n",
        "        confidence_level (float): Confidence level for CVaR calculation.\n",
        "        upside_confidence (float): Confidence level for upside in Rachev Ratio.\n",
        "\n",
        "    Returns:\n",
        "        dict: Performance metrics for PPO and CPPO.\n",
        "    \"\"\"\n",
        "    # Calculate returns\n",
        "    returns_ppo = result[\"PPO 25 epochs\"].pct_change().dropna()\n",
        "    returns_cppo = result[\"CPPO 25 epochs\"].pct_change().dropna()\n",
        "    returns_benchmark = result[\"Nasdaq-100 index\"].pct_change().dropna()\n",
        "\n",
        "    # Align returns\n",
        "    returns_ppo, returns_benchmark_ppo = returns_ppo.align(returns_benchmark, join=\"inner\")\n",
        "    returns_cppo, returns_benchmark_cppo = returns_cppo.align(returns_benchmark, join=\"inner\")\n",
        "\n",
        "    # Compute metrics\n",
        "    metrics = {\n",
        "        \"PPO\": {\n",
        "            \"Information Ratio\": calculate_information_ratio(returns_ppo, returns_benchmark_ppo),\n",
        "            \"CVaR\": calculate_cvar(returns_ppo, confidence_level),\n",
        "            \"Rachev Ratio\": calculate_rachev_ratio(returns_ppo, upside_confidence, confidence_level),\n",
        "        },\n",
        "        \"CPPO\": {\n",
        "            \"Information Ratio\": calculate_information_ratio(returns_cppo, returns_benchmark_cppo),\n",
        "            \"CVaR\": calculate_cvar(returns_cppo, confidence_level),\n",
        "            \"Rachev Ratio\": calculate_rachev_ratio(returns_cppo, upside_confidence, confidence_level),\n",
        "        }\n",
        "    }\n",
        "    return metrics\n",
        "\n",
        "def plot_cumulative_returns(result, metrics):\n",
        "    \"\"\"\n",
        "    Plot cumulative returns for PPO, CPPO, and benchmark with annotated metrics.\n",
        "\n",
        "    Parameters:\n",
        "        result (pd.DataFrame): DataFrame with strategies and benchmark.\n",
        "        metrics (dict): Performance metrics.\n",
        "    \"\"\"\n",
        "    # Calculate cumulative returns\n",
        "    cumulative_ppo = (1 + result[\"PPO 25 epochs\"].pct_change().dropna()).cumprod()\n",
        "    cumulative_cppo = (1 + result[\"CPPO 25 epochs\"].pct_change().dropna()).cumprod()\n",
        "    cumulative_benchmark = (1 + result[\"Nasdaq-100 index\"].pct_change().dropna()).cumprod()\n",
        "\n",
        "    # Plot\n",
        "    plt.figure(figsize=(12, 6))\n",
        "    plt.plot(cumulative_ppo, label=f\"PPO 25 epochs (IR={metrics['PPO']['Information Ratio']:.4f})\")\n",
        "    plt.plot(cumulative_cppo, label=f\"CPPO 25 epochs (IR={metrics['CPPO']['Information Ratio']:.4f})\")\n",
        "    plt.plot(cumulative_benchmark, label=\"Nasdaq-100 index (Benchmark)\")\n",
        "    plt.title(\"Cumulative Returns with Performance Metrics\")\n",
        "    plt.legend()\n",
        "    plt.xlabel(\"Date\")\n",
        "    plt.ylabel(\"Cumulative Return\")\n",
        "    plt.grid()\n",
        "    plt.show()\n",
        "\n",
        "# Example Usage\n",
        "# Assuming `result` DataFrame is prepared with \"PPO 25 epochs\", \"CPPO 25 epochs\", and \"Nasdaq-100 index\"\n",
        "metrics = align_and_compute_metrics(result)\n",
        "plot_cumulative_returns(result, metrics)\n",
        "\n",
        "# Print metrics\n",
        "for strategy, strategy_metrics in metrics.items():\n",
        "    print(f\"{strategy} Metrics:\")\n",
        "    for metric_name, value in strategy_metrics.items():\n",
        "        print(f\"  {metric_name}: {value:.4f}\")"
      ]
    },
    {
      "cell_type": "code",
      "execution_count": null,
      "metadata": {
        "id": "QcGXK17Yoy2m"
      },
      "outputs": [],
      "source": [
        "import pandas as pd\n",
        "import matplotlib.pyplot as plt\n",
        "\n",
        "# ... (your existing code to load data and calculate strategies) ...\n",
        "\n",
        "# Get unique trading dates from your trade data\n",
        "trade_dates = pd.to_datetime(trade['date'].unique())\n",
        "\n",
        "first_date = trade_dates[0]\n",
        "date_before_first = first_date - pd.DateOffset(days=1)\n",
        "\n",
        "# Prepend the date before the first date to trade_dates\n",
        "trade_dates = pd.DatetimeIndex([date_before_first] + trade_dates.tolist())\n",
        "\n",
        "\n",
        "# Reindex your strategy results to match the trading dates\n",
        "df_assets_ppo_series = pd.Series(df_assets_ppo, index=trade_dates)\n",
        "#df_dji_normalized_close_series = pd.Series(df_dji_normalized_close, index=trade_dates) # Convert to Series\n",
        "\n",
        "\n",
        "# 1. Get dates from df_dji (Yahoo Finance data)\n",
        "\n",
        "dji_dates = pd.to_datetime(df_dji['date'])\n",
        "\n",
        "# 2. Find the intersection of trade_dates and dji_dates\n",
        "common_dates = trade_dates.intersection(dji_dates)\n",
        "\n",
        "# 3. Reindex df_assets_ppo to keep only common_dates\n",
        "df_assets_ppo_series = pd.Series(df_assets_ppo, index=trade_dates).reindex(common_dates)\n",
        "\n",
        "# Reindex df_dji to match common_dates, forward-filling missing values (if any)\n",
        "df_dji_normalized_close_series = pd.Series(df_dji_normalized_close, index=common_dates)\n",
        "\n",
        "# Create the DataFrame with trading dates as the index\n",
        "result = pd.DataFrame(\n",
        "    {\n",
        "        \"PPO 70 epochs\": df_assets_ppo_series,\n",
        "        \"Nasdaq-100 index\": df_dji_normalized_close_series,\n",
        "    }\n",
        ")\n"
      ]
    },
    {
      "cell_type": "code",
      "execution_count": null,
      "metadata": {
        "id": "FGP2SHLLo0B2"
      },
      "outputs": [],
      "source": [
        "result.to_csv('result_ppo_qwen_25_epochs_20k_steps.csv')"
      ]
    },
    {
      "cell_type": "code",
      "execution_count": null,
      "metadata": {
        "id": "iUne9VHyxa3c"
      },
      "outputs": [],
      "source": [
        "# prompt: plot also the sharpe ratio and sortino ratio of nasdaq and ppo\n",
        "\n",
        "import matplotlib.pyplot as plt\n",
        "import pandas as pd\n",
        "import numpy as np\n",
        "\n",
        "# Assuming 'result' DataFrame is already created as in your provided code\n",
        "\n",
        "# Calculate daily returns\n",
        "result['PPO 70 epochs_daily_return'] = result['PPO 70 epochs'].pct_change()\n",
        "result['Nasdaq-100 index_daily_return'] = result['Nasdaq-100 index'].pct_change()\n",
        "\n",
        "\n",
        "# Calculate Sharpe Ratio\n",
        "sharpe_ppo = np.sqrt(252) * (result['PPO 70 epochs_daily_return'].mean() / result['PPO 70 epochs_daily_return'].std())\n",
        "sharpe_nasdaq = np.sqrt(252) * (result['Nasdaq-100 index_daily_return'].mean() / result['Nasdaq-100 index_daily_return'].std())\n",
        "\n",
        "# Calculate Sortino Ratio (assuming a target return of 0)\n",
        "downside_returns_ppo = result['PPO 70 epochs_daily_return'].where(result['PPO 70 epochs_daily_return'] < 0, 0)\n",
        "downside_returns_nasdaq = result['Nasdaq-100 index_daily_return'].where(result['Nasdaq-100 index_daily_return'] < 0, 0)\n",
        "\n",
        "sortino_ppo = np.sqrt(252) * (result['PPO 70 epochs_daily_return'].mean() / downside_returns_ppo.std())\n",
        "sortino_nasdaq = np.sqrt(252) * (result['Nasdaq-100 index_daily_return'].mean() / downside_returns_nasdaq.std())\n",
        "\n",
        "\n",
        "#Plotting\n",
        "plt.figure(figsize=(12, 6))\n",
        "plt.plot(result.index, result['PPO 70 epochs'], label='PPO 70 epochs')\n",
        "plt.plot(result.index, result['Nasdaq-100 index'], label='Nasdaq-100 index')\n",
        "plt.title('Portfolio Value Comparison')\n",
        "plt.xlabel('Date')\n",
        "plt.ylabel('Portfolio Value')\n",
        "plt.legend()\n",
        "plt.grid(True)\n",
        "\n",
        "\n",
        "# Move legend to upper left\n",
        "plt.legend(loc='upper left')\n",
        "\n",
        "\n",
        "plt.show()"
      ]
    },
    {
      "cell_type": "code",
      "execution_count": null,
      "metadata": {
        "id": "04VTLHqYVJxa"
      },
      "outputs": [],
      "source": [
        "import numpy as np\n",
        "import pandas as pd\n",
        "import matplotlib.pyplot as plt\n",
        "\n",
        "# Assuming `df_assets_ppo_series` and `df_dji_normalized_close_series` are already created\n",
        "returns_strategy = df_assets_ppo_series.pct_change().dropna()\n",
        "returns_benchmark = df_dji_normalized_close_series.pct_change().dropna()\n",
        "\n",
        "# Align data\n",
        "returns_strategy, returns_benchmark = returns_strategy.align(returns_benchmark, join=\"inner\")\n",
        "\n",
        "# Information Ratio\n",
        "excess_return = returns_strategy - returns_benchmark\n",
        "information_ratio = excess_return.mean() / excess_return.std()\n",
        "\n",
        "# CVaR\n",
        "confidence_level = 0.05\n",
        "var = np.percentile(returns_strategy, confidence_level * 100)\n",
        "cvar = returns_strategy[returns_strategy <= var].mean()\n",
        "\n",
        "# Rachev Ratio\n",
        "upside_confidence = 0.95\n",
        "downside_confidence = 0.05\n",
        "upside_var = np.percentile(returns_strategy, upside_confidence * 100)\n",
        "downside_var = np.percentile(returns_strategy, downside_confidence * 100)\n",
        "rachev_ratio = returns_strategy[returns_strategy >= upside_var].mean() / abs(returns_strategy[returns_strategy <= downside_var].mean())\n",
        "\n",
        "# Print metrics\n",
        "print(f\"Information Ratio: {information_ratio:.4f}\")\n",
        "print(f\"CVaR (5%): {cvar:.4f}\")\n",
        "print(f\"Rachev Ratio: {rachev_ratio:.4f}\")\n",
        "\n",
        "# Plot\n",
        "plt.figure(figsize=(12, 6))\n",
        "\n",
        "# Strategy and benchmark cumulative returns\n",
        "cumulative_strategy = (1 + returns_strategy).cumprod()\n",
        "cumulative_benchmark = (1 + returns_benchmark).cumprod()\n",
        "\n",
        "plt.plot(cumulative_strategy, label=\"PPO 25 epochs (Strategy)\")\n",
        "plt.plot(cumulative_benchmark, label=\"Nasdaq-100 index (Baseline)\")\n",
        "\n",
        "# Add metrics to the plot\n",
        "plt.title(f\"Performance Metrics:\\nIR={information_ratio:.4f}, CVaR (5%)={cvar:.4f}, Rachev={rachev_ratio:.4f}\")\n",
        "plt.legend()\n",
        "plt.xlabel(\"Date\")\n",
        "plt.ylabel(\"Cumulative Return\")\n",
        "plt.grid()\n",
        "plt.show()\n"
      ]
    },
    {
      "cell_type": "code",
      "execution_count": null,
      "metadata": {
        "id": "SdVni8vROZPc"
      },
      "outputs": [],
      "source": [
        "import matplotlib.pyplot as plt\n",
        "import pandas as pd\n",
        "import numpy as np\n",
        "\n",
        "# ... (your existing code to load data and calculate strategies) ...\n",
        "\n",
        "# Calculate daily returns (same as before)\n",
        "# ...\n",
        "\n",
        "# Calculate Sharpe and Sortino Ratios (same as before)\n",
        "# ...\n",
        "\n",
        "# Create a figure with two subplots\n",
        "fig, (ax1, ax2) = plt.subplots(1, 2, figsize=(14, 6))  # 1 row, 2 columns\n",
        "\n",
        "# --- Subplot 1: Sharpe Ratio Comparison ---\n",
        "ax1.bar(['PPO 70 epochs', 'Nasdaq-100 index'], [sharpe_ppo, sharpe_nasdaq], color=['blue', 'orange'])\n",
        "ax1.set_title('Sharpe Ratio Comparison')\n",
        "ax1.set_ylabel('Sharpe Ratio')\n",
        "\n",
        "# Add Sharpe ratio values as text on top of the bars\n",
        "for i, v in enumerate([sharpe_ppo, sharpe_nasdaq]):\n",
        "    ax1.text(i, v + 0.05, f\"{v:.2f}\", ha='center', va='bottom')\n",
        "\n",
        "# --- Subplot 2: Sortino Ratio Comparison ---\n",
        "ax2.bar(['PPO 70 epochs', 'Nasdaq-100 index'], [sortino_ppo, sortino_nasdaq], color=['green', 'red'])\n",
        "ax2.set_title('Sortino Ratio Comparison')\n",
        "ax2.set_ylabel('Sortino Ratio')\n",
        "\n",
        "# Add Sortino ratio values as text on top of the bars\n",
        "for i, v in enumerate([sortino_ppo, sortino_nasdaq]):\n",
        "    ax2.text(i, v + 0.05, f\"{v:.2f}\", ha='center', va='bottom')\n",
        "\n",
        "plt.tight_layout()\n",
        "plt.show()"
      ]
    },
    {
      "cell_type": "code",
      "execution_count": null,
      "metadata": {
        "id": "rTiRzW5wPfMX"
      },
      "outputs": [],
      "source": []
    },
    {
      "cell_type": "code",
      "execution_count": null,
      "metadata": {
        "id": "v5s-XdhNPfHi"
      },
      "outputs": [],
      "source": []
    },
    {
      "cell_type": "code",
      "execution_count": null,
      "metadata": {
        "id": "rjihjOK7PfEJ"
      },
      "outputs": [],
      "source": []
    },
    {
      "cell_type": "code",
      "execution_count": null,
      "metadata": {
        "id": "RwutU7uAmAja"
      },
      "outputs": [],
      "source": [
        "\n",
        "# Plotting\n",
        "plt.figure(figsize=(16, 6))\n",
        "for column in result.columns:\n",
        "    plt.plot(result.index, result[column], label=column)\n",
        "\n",
        "plt.xlabel(\"Date\")\n",
        "plt.ylabel(\"Portfolio Value\")\n",
        "plt.title(\"Backtesting Results (Tradable Days Only)\")\n",
        "\n",
        "\n",
        "# Get the first and last dates from the index\n",
        "first_day = result.index[0]\n",
        "last_day = result.index[-1]\n",
        "\n",
        "# Create a list of dates for ticks, including first, last, and every 15 days\n",
        "tick_dates = [first_day]  # Start with the first day\n",
        "current_date = first_day + pd.DateOffset(days=15)  # Add 15 days\n",
        "while current_date < last_day:\n",
        "    tick_dates.append(current_date)\n",
        "    current_date += pd.DateOffset(days=15)\n",
        "tick_dates.append(last_day)  # Add the last day\n",
        "\n",
        "\n",
        "# Remove December 13th if it's in the tick_dates list\n",
        "tick_dates = [d for d in tick_dates if d.strftime('%Y-%m-%d') != '2023-12-13']\n",
        "\n",
        "\n",
        "# Set x-axis ticks to the calculated tick_dates\n",
        "plt.xticks(tick_dates, [d.strftime('%Y-%m-%d') for d in tick_dates], rotation=45)\n",
        "\n",
        "\n",
        "#plt.xticks(rotation=45)\n",
        "plt.legend()\n",
        "plt.grid(True)\n",
        "plt.tight_layout()\n",
        "plt.show()"
      ]
    },
    {
      "cell_type": "code",
      "execution_count": null,
      "metadata": {
        "id": "j5v8A7qegWpR"
      },
      "outputs": [],
      "source": [
        "plt.rcParams[\"figure.figsize\"] = (15,5)\n",
        "plt.figure()\n",
        "result.plot()"
      ]
    },
    {
      "cell_type": "code",
      "execution_count": null,
      "metadata": {
        "id": "6xRfrqK4RVfq"
      },
      "outputs": [],
      "source": [
        "plt.rcParams[\"figure.figsize\"] = (15,5)\n",
        "plt.figure()\n",
        "result.plot()"
      ]
    }
  ],
  "metadata": {
    "colab": {
      "provenance": [],
      "include_colab_link": true
    },
    "kaggle": {
      "accelerator": "none",
      "dataSources": [
        {
          "isSourceIdPinned": true,
          "modelId": 222180,
          "modelInstanceId": 200368,
          "sourceId": 234579,
          "sourceType": "modelInstanceVersion"
        },
        {
          "isSourceIdPinned": true,
          "modelId": 222227,
          "modelInstanceId": 200415,
          "sourceId": 234637,
          "sourceType": "modelInstanceVersion"
        }
      ],
      "dockerImageVersionId": 30839,
      "isGpuEnabled": false,
      "isInternetEnabled": true,
      "language": "python",
      "sourceType": "notebook"
    },
    "kernelspec": {
      "display_name": "Python 3",
      "name": "python3"
    },
    "language_info": {
      "codemirror_mode": {
        "name": "ipython",
        "version": 3
      },
      "file_extension": ".py",
      "mimetype": "text/x-python",
      "name": "python",
      "nbconvert_exporter": "python",
      "pygments_lexer": "ipython3",
      "version": "3.10.12"
    },
    "widgets": {
      "application/vnd.jupyter.widget-state+json": {
        "c14968d005cd40c6a16c336b96d6c845": {
          "model_module": "@jupyter-widgets/controls",
          "model_name": "HBoxModel",
          "model_module_version": "1.5.0",
          "state": {
            "_dom_classes": [],
            "_model_module": "@jupyter-widgets/controls",
            "_model_module_version": "1.5.0",
            "_model_name": "HBoxModel",
            "_view_count": null,
            "_view_module": "@jupyter-widgets/controls",
            "_view_module_version": "1.5.0",
            "_view_name": "HBoxView",
            "box_style": "",
            "children": [
              "IPY_MODEL_b9c74b2d661f43c1859467b1cf0da904",
              "IPY_MODEL_f8274f7aea8844b0b5c94fe203feda8f",
              "IPY_MODEL_d9afa03839944a999ea5205044f9b328"
            ],
            "layout": "IPY_MODEL_83a0b8b55d544194a91bb09edf57fe3e"
          }
        },
        "b9c74b2d661f43c1859467b1cf0da904": {
          "model_module": "@jupyter-widgets/controls",
          "model_name": "HTMLModel",
          "model_module_version": "1.5.0",
          "state": {
            "_dom_classes": [],
            "_model_module": "@jupyter-widgets/controls",
            "_model_module_version": "1.5.0",
            "_model_name": "HTMLModel",
            "_view_count": null,
            "_view_module": "@jupyter-widgets/controls",
            "_view_module_version": "1.5.0",
            "_view_name": "HTMLView",
            "description": "",
            "description_tooltip": null,
            "layout": "IPY_MODEL_acef298c308849ec8181413b4bc4a074",
            "placeholder": "​",
            "style": "IPY_MODEL_3ab02dce0d3049d2a337c6374e95f046",
            "value": "trade_data_deepseek_risk_2019_2023.csv: 100%"
          }
        },
        "f8274f7aea8844b0b5c94fe203feda8f": {
          "model_module": "@jupyter-widgets/controls",
          "model_name": "FloatProgressModel",
          "model_module_version": "1.5.0",
          "state": {
            "_dom_classes": [],
            "_model_module": "@jupyter-widgets/controls",
            "_model_module_version": "1.5.0",
            "_model_name": "FloatProgressModel",
            "_view_count": null,
            "_view_module": "@jupyter-widgets/controls",
            "_view_module_version": "1.5.0",
            "_view_name": "ProgressView",
            "bar_style": "success",
            "description": "",
            "description_tooltip": null,
            "layout": "IPY_MODEL_834601fb3d934c6fa8d7b60c67e47056",
            "max": 31198826,
            "min": 0,
            "orientation": "horizontal",
            "style": "IPY_MODEL_bfbc561bb1cc44259963aee0d234174d",
            "value": 31198826
          }
        },
        "d9afa03839944a999ea5205044f9b328": {
          "model_module": "@jupyter-widgets/controls",
          "model_name": "HTMLModel",
          "model_module_version": "1.5.0",
          "state": {
            "_dom_classes": [],
            "_model_module": "@jupyter-widgets/controls",
            "_model_module_version": "1.5.0",
            "_model_name": "HTMLModel",
            "_view_count": null,
            "_view_module": "@jupyter-widgets/controls",
            "_view_module_version": "1.5.0",
            "_view_name": "HTMLView",
            "description": "",
            "description_tooltip": null,
            "layout": "IPY_MODEL_61c559014bdf43cd9f317b4cb0eb263e",
            "placeholder": "​",
            "style": "IPY_MODEL_e34e89c6c82e40fd80da2e86b4571c08",
            "value": " 31.2M/31.2M [00:00&lt;00:00, 65.6MB/s]"
          }
        },
        "83a0b8b55d544194a91bb09edf57fe3e": {
          "model_module": "@jupyter-widgets/base",
          "model_name": "LayoutModel",
          "model_module_version": "1.2.0",
          "state": {
            "_model_module": "@jupyter-widgets/base",
            "_model_module_version": "1.2.0",
            "_model_name": "LayoutModel",
            "_view_count": null,
            "_view_module": "@jupyter-widgets/base",
            "_view_module_version": "1.2.0",
            "_view_name": "LayoutView",
            "align_content": null,
            "align_items": null,
            "align_self": null,
            "border": null,
            "bottom": null,
            "display": null,
            "flex": null,
            "flex_flow": null,
            "grid_area": null,
            "grid_auto_columns": null,
            "grid_auto_flow": null,
            "grid_auto_rows": null,
            "grid_column": null,
            "grid_gap": null,
            "grid_row": null,
            "grid_template_areas": null,
            "grid_template_columns": null,
            "grid_template_rows": null,
            "height": null,
            "justify_content": null,
            "justify_items": null,
            "left": null,
            "margin": null,
            "max_height": null,
            "max_width": null,
            "min_height": null,
            "min_width": null,
            "object_fit": null,
            "object_position": null,
            "order": null,
            "overflow": null,
            "overflow_x": null,
            "overflow_y": null,
            "padding": null,
            "right": null,
            "top": null,
            "visibility": null,
            "width": null
          }
        },
        "acef298c308849ec8181413b4bc4a074": {
          "model_module": "@jupyter-widgets/base",
          "model_name": "LayoutModel",
          "model_module_version": "1.2.0",
          "state": {
            "_model_module": "@jupyter-widgets/base",
            "_model_module_version": "1.2.0",
            "_model_name": "LayoutModel",
            "_view_count": null,
            "_view_module": "@jupyter-widgets/base",
            "_view_module_version": "1.2.0",
            "_view_name": "LayoutView",
            "align_content": null,
            "align_items": null,
            "align_self": null,
            "border": null,
            "bottom": null,
            "display": null,
            "flex": null,
            "flex_flow": null,
            "grid_area": null,
            "grid_auto_columns": null,
            "grid_auto_flow": null,
            "grid_auto_rows": null,
            "grid_column": null,
            "grid_gap": null,
            "grid_row": null,
            "grid_template_areas": null,
            "grid_template_columns": null,
            "grid_template_rows": null,
            "height": null,
            "justify_content": null,
            "justify_items": null,
            "left": null,
            "margin": null,
            "max_height": null,
            "max_width": null,
            "min_height": null,
            "min_width": null,
            "object_fit": null,
            "object_position": null,
            "order": null,
            "overflow": null,
            "overflow_x": null,
            "overflow_y": null,
            "padding": null,
            "right": null,
            "top": null,
            "visibility": null,
            "width": null
          }
        },
        "3ab02dce0d3049d2a337c6374e95f046": {
          "model_module": "@jupyter-widgets/controls",
          "model_name": "DescriptionStyleModel",
          "model_module_version": "1.5.0",
          "state": {
            "_model_module": "@jupyter-widgets/controls",
            "_model_module_version": "1.5.0",
            "_model_name": "DescriptionStyleModel",
            "_view_count": null,
            "_view_module": "@jupyter-widgets/base",
            "_view_module_version": "1.2.0",
            "_view_name": "StyleView",
            "description_width": ""
          }
        },
        "834601fb3d934c6fa8d7b60c67e47056": {
          "model_module": "@jupyter-widgets/base",
          "model_name": "LayoutModel",
          "model_module_version": "1.2.0",
          "state": {
            "_model_module": "@jupyter-widgets/base",
            "_model_module_version": "1.2.0",
            "_model_name": "LayoutModel",
            "_view_count": null,
            "_view_module": "@jupyter-widgets/base",
            "_view_module_version": "1.2.0",
            "_view_name": "LayoutView",
            "align_content": null,
            "align_items": null,
            "align_self": null,
            "border": null,
            "bottom": null,
            "display": null,
            "flex": null,
            "flex_flow": null,
            "grid_area": null,
            "grid_auto_columns": null,
            "grid_auto_flow": null,
            "grid_auto_rows": null,
            "grid_column": null,
            "grid_gap": null,
            "grid_row": null,
            "grid_template_areas": null,
            "grid_template_columns": null,
            "grid_template_rows": null,
            "height": null,
            "justify_content": null,
            "justify_items": null,
            "left": null,
            "margin": null,
            "max_height": null,
            "max_width": null,
            "min_height": null,
            "min_width": null,
            "object_fit": null,
            "object_position": null,
            "order": null,
            "overflow": null,
            "overflow_x": null,
            "overflow_y": null,
            "padding": null,
            "right": null,
            "top": null,
            "visibility": null,
            "width": null
          }
        },
        "bfbc561bb1cc44259963aee0d234174d": {
          "model_module": "@jupyter-widgets/controls",
          "model_name": "ProgressStyleModel",
          "model_module_version": "1.5.0",
          "state": {
            "_model_module": "@jupyter-widgets/controls",
            "_model_module_version": "1.5.0",
            "_model_name": "ProgressStyleModel",
            "_view_count": null,
            "_view_module": "@jupyter-widgets/base",
            "_view_module_version": "1.2.0",
            "_view_name": "StyleView",
            "bar_color": null,
            "description_width": ""
          }
        },
        "61c559014bdf43cd9f317b4cb0eb263e": {
          "model_module": "@jupyter-widgets/base",
          "model_name": "LayoutModel",
          "model_module_version": "1.2.0",
          "state": {
            "_model_module": "@jupyter-widgets/base",
            "_model_module_version": "1.2.0",
            "_model_name": "LayoutModel",
            "_view_count": null,
            "_view_module": "@jupyter-widgets/base",
            "_view_module_version": "1.2.0",
            "_view_name": "LayoutView",
            "align_content": null,
            "align_items": null,
            "align_self": null,
            "border": null,
            "bottom": null,
            "display": null,
            "flex": null,
            "flex_flow": null,
            "grid_area": null,
            "grid_auto_columns": null,
            "grid_auto_flow": null,
            "grid_auto_rows": null,
            "grid_column": null,
            "grid_gap": null,
            "grid_row": null,
            "grid_template_areas": null,
            "grid_template_columns": null,
            "grid_template_rows": null,
            "height": null,
            "justify_content": null,
            "justify_items": null,
            "left": null,
            "margin": null,
            "max_height": null,
            "max_width": null,
            "min_height": null,
            "min_width": null,
            "object_fit": null,
            "object_position": null,
            "order": null,
            "overflow": null,
            "overflow_x": null,
            "overflow_y": null,
            "padding": null,
            "right": null,
            "top": null,
            "visibility": null,
            "width": null
          }
        },
        "e34e89c6c82e40fd80da2e86b4571c08": {
          "model_module": "@jupyter-widgets/controls",
          "model_name": "DescriptionStyleModel",
          "model_module_version": "1.5.0",
          "state": {
            "_model_module": "@jupyter-widgets/controls",
            "_model_module_version": "1.5.0",
            "_model_name": "DescriptionStyleModel",
            "_view_count": null,
            "_view_module": "@jupyter-widgets/base",
            "_view_module_version": "1.2.0",
            "_view_name": "StyleView",
            "description_width": ""
          }
        },
        "5735f4a60ada431c9ef38c0b3246dd96": {
          "model_module": "@jupyter-widgets/controls",
          "model_name": "HBoxModel",
          "model_module_version": "1.5.0",
          "state": {
            "_dom_classes": [],
            "_model_module": "@jupyter-widgets/controls",
            "_model_module_version": "1.5.0",
            "_model_name": "HBoxModel",
            "_view_count": null,
            "_view_module": "@jupyter-widgets/controls",
            "_view_module_version": "1.5.0",
            "_view_name": "HBoxView",
            "box_style": "",
            "children": [
              "IPY_MODEL_b338712f06784dd585948f10f57fa3c1",
              "IPY_MODEL_3395b5053bc242f6ad2012958f7a236b",
              "IPY_MODEL_99909688b316424981b779f58d4137bc"
            ],
            "layout": "IPY_MODEL_cb75a0b1a79d4771a6e9dc4ca66def69"
          }
        },
        "b338712f06784dd585948f10f57fa3c1": {
          "model_module": "@jupyter-widgets/controls",
          "model_name": "HTMLModel",
          "model_module_version": "1.5.0",
          "state": {
            "_dom_classes": [],
            "_model_module": "@jupyter-widgets/controls",
            "_model_module_version": "1.5.0",
            "_model_name": "HTMLModel",
            "_view_count": null,
            "_view_module": "@jupyter-widgets/controls",
            "_view_module_version": "1.5.0",
            "_view_name": "HTMLView",
            "description": "",
            "description_tooltip": null,
            "layout": "IPY_MODEL_576080e61c7741e1bb0e9b5486779a96",
            "placeholder": "​",
            "style": "IPY_MODEL_545be67a6dc046369cc634e7e78e4891",
            "value": "Generating train split: "
          }
        },
        "3395b5053bc242f6ad2012958f7a236b": {
          "model_module": "@jupyter-widgets/controls",
          "model_name": "FloatProgressModel",
          "model_module_version": "1.5.0",
          "state": {
            "_dom_classes": [],
            "_model_module": "@jupyter-widgets/controls",
            "_model_module_version": "1.5.0",
            "_model_name": "FloatProgressModel",
            "_view_count": null,
            "_view_module": "@jupyter-widgets/controls",
            "_view_module_version": "1.5.0",
            "_view_name": "ProgressView",
            "bar_style": "success",
            "description": "",
            "description_tooltip": null,
            "layout": "IPY_MODEL_73059b4fa4c949209dcb62d978135a43",
            "max": 1,
            "min": 0,
            "orientation": "horizontal",
            "style": "IPY_MODEL_4c87d3eb4b8d400b93fa793b2ebcb688",
            "value": 1
          }
        },
        "99909688b316424981b779f58d4137bc": {
          "model_module": "@jupyter-widgets/controls",
          "model_name": "HTMLModel",
          "model_module_version": "1.5.0",
          "state": {
            "_dom_classes": [],
            "_model_module": "@jupyter-widgets/controls",
            "_model_module_version": "1.5.0",
            "_model_name": "HTMLModel",
            "_view_count": null,
            "_view_module": "@jupyter-widgets/controls",
            "_view_module_version": "1.5.0",
            "_view_name": "HTMLView",
            "description": "",
            "description_tooltip": null,
            "layout": "IPY_MODEL_7c37a989e0c5402a9c28da088df04ca1",
            "placeholder": "​",
            "style": "IPY_MODEL_ab1730e185ec4bb8ad0bbad5923e2d8c",
            "value": " 105588/0 [00:01&lt;00:00, 118416.10 examples/s]"
          }
        },
        "cb75a0b1a79d4771a6e9dc4ca66def69": {
          "model_module": "@jupyter-widgets/base",
          "model_name": "LayoutModel",
          "model_module_version": "1.2.0",
          "state": {
            "_model_module": "@jupyter-widgets/base",
            "_model_module_version": "1.2.0",
            "_model_name": "LayoutModel",
            "_view_count": null,
            "_view_module": "@jupyter-widgets/base",
            "_view_module_version": "1.2.0",
            "_view_name": "LayoutView",
            "align_content": null,
            "align_items": null,
            "align_self": null,
            "border": null,
            "bottom": null,
            "display": null,
            "flex": null,
            "flex_flow": null,
            "grid_area": null,
            "grid_auto_columns": null,
            "grid_auto_flow": null,
            "grid_auto_rows": null,
            "grid_column": null,
            "grid_gap": null,
            "grid_row": null,
            "grid_template_areas": null,
            "grid_template_columns": null,
            "grid_template_rows": null,
            "height": null,
            "justify_content": null,
            "justify_items": null,
            "left": null,
            "margin": null,
            "max_height": null,
            "max_width": null,
            "min_height": null,
            "min_width": null,
            "object_fit": null,
            "object_position": null,
            "order": null,
            "overflow": null,
            "overflow_x": null,
            "overflow_y": null,
            "padding": null,
            "right": null,
            "top": null,
            "visibility": null,
            "width": null
          }
        },
        "576080e61c7741e1bb0e9b5486779a96": {
          "model_module": "@jupyter-widgets/base",
          "model_name": "LayoutModel",
          "model_module_version": "1.2.0",
          "state": {
            "_model_module": "@jupyter-widgets/base",
            "_model_module_version": "1.2.0",
            "_model_name": "LayoutModel",
            "_view_count": null,
            "_view_module": "@jupyter-widgets/base",
            "_view_module_version": "1.2.0",
            "_view_name": "LayoutView",
            "align_content": null,
            "align_items": null,
            "align_self": null,
            "border": null,
            "bottom": null,
            "display": null,
            "flex": null,
            "flex_flow": null,
            "grid_area": null,
            "grid_auto_columns": null,
            "grid_auto_flow": null,
            "grid_auto_rows": null,
            "grid_column": null,
            "grid_gap": null,
            "grid_row": null,
            "grid_template_areas": null,
            "grid_template_columns": null,
            "grid_template_rows": null,
            "height": null,
            "justify_content": null,
            "justify_items": null,
            "left": null,
            "margin": null,
            "max_height": null,
            "max_width": null,
            "min_height": null,
            "min_width": null,
            "object_fit": null,
            "object_position": null,
            "order": null,
            "overflow": null,
            "overflow_x": null,
            "overflow_y": null,
            "padding": null,
            "right": null,
            "top": null,
            "visibility": null,
            "width": null
          }
        },
        "545be67a6dc046369cc634e7e78e4891": {
          "model_module": "@jupyter-widgets/controls",
          "model_name": "DescriptionStyleModel",
          "model_module_version": "1.5.0",
          "state": {
            "_model_module": "@jupyter-widgets/controls",
            "_model_module_version": "1.5.0",
            "_model_name": "DescriptionStyleModel",
            "_view_count": null,
            "_view_module": "@jupyter-widgets/base",
            "_view_module_version": "1.2.0",
            "_view_name": "StyleView",
            "description_width": ""
          }
        },
        "73059b4fa4c949209dcb62d978135a43": {
          "model_module": "@jupyter-widgets/base",
          "model_name": "LayoutModel",
          "model_module_version": "1.2.0",
          "state": {
            "_model_module": "@jupyter-widgets/base",
            "_model_module_version": "1.2.0",
            "_model_name": "LayoutModel",
            "_view_count": null,
            "_view_module": "@jupyter-widgets/base",
            "_view_module_version": "1.2.0",
            "_view_name": "LayoutView",
            "align_content": null,
            "align_items": null,
            "align_self": null,
            "border": null,
            "bottom": null,
            "display": null,
            "flex": null,
            "flex_flow": null,
            "grid_area": null,
            "grid_auto_columns": null,
            "grid_auto_flow": null,
            "grid_auto_rows": null,
            "grid_column": null,
            "grid_gap": null,
            "grid_row": null,
            "grid_template_areas": null,
            "grid_template_columns": null,
            "grid_template_rows": null,
            "height": null,
            "justify_content": null,
            "justify_items": null,
            "left": null,
            "margin": null,
            "max_height": null,
            "max_width": null,
            "min_height": null,
            "min_width": null,
            "object_fit": null,
            "object_position": null,
            "order": null,
            "overflow": null,
            "overflow_x": null,
            "overflow_y": null,
            "padding": null,
            "right": null,
            "top": null,
            "visibility": null,
            "width": "20px"
          }
        },
        "4c87d3eb4b8d400b93fa793b2ebcb688": {
          "model_module": "@jupyter-widgets/controls",
          "model_name": "ProgressStyleModel",
          "model_module_version": "1.5.0",
          "state": {
            "_model_module": "@jupyter-widgets/controls",
            "_model_module_version": "1.5.0",
            "_model_name": "ProgressStyleModel",
            "_view_count": null,
            "_view_module": "@jupyter-widgets/base",
            "_view_module_version": "1.2.0",
            "_view_name": "StyleView",
            "bar_color": null,
            "description_width": ""
          }
        },
        "7c37a989e0c5402a9c28da088df04ca1": {
          "model_module": "@jupyter-widgets/base",
          "model_name": "LayoutModel",
          "model_module_version": "1.2.0",
          "state": {
            "_model_module": "@jupyter-widgets/base",
            "_model_module_version": "1.2.0",
            "_model_name": "LayoutModel",
            "_view_count": null,
            "_view_module": "@jupyter-widgets/base",
            "_view_module_version": "1.2.0",
            "_view_name": "LayoutView",
            "align_content": null,
            "align_items": null,
            "align_self": null,
            "border": null,
            "bottom": null,
            "display": null,
            "flex": null,
            "flex_flow": null,
            "grid_area": null,
            "grid_auto_columns": null,
            "grid_auto_flow": null,
            "grid_auto_rows": null,
            "grid_column": null,
            "grid_gap": null,
            "grid_row": null,
            "grid_template_areas": null,
            "grid_template_columns": null,
            "grid_template_rows": null,
            "height": null,
            "justify_content": null,
            "justify_items": null,
            "left": null,
            "margin": null,
            "max_height": null,
            "max_width": null,
            "min_height": null,
            "min_width": null,
            "object_fit": null,
            "object_position": null,
            "order": null,
            "overflow": null,
            "overflow_x": null,
            "overflow_y": null,
            "padding": null,
            "right": null,
            "top": null,
            "visibility": null,
            "width": null
          }
        },
        "ab1730e185ec4bb8ad0bbad5923e2d8c": {
          "model_module": "@jupyter-widgets/controls",
          "model_name": "DescriptionStyleModel",
          "model_module_version": "1.5.0",
          "state": {
            "_model_module": "@jupyter-widgets/controls",
            "_model_module_version": "1.5.0",
            "_model_name": "DescriptionStyleModel",
            "_view_count": null,
            "_view_module": "@jupyter-widgets/base",
            "_view_module_version": "1.2.0",
            "_view_name": "StyleView",
            "description_width": ""
          }
        }
      }
    }
  },
  "nbformat": 4,
  "nbformat_minor": 0
}